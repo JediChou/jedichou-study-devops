{
 "cells": [
  {
   "cell_type": "markdown",
   "metadata": {},
   "source": [
    "# 第7章 更加抽象\n",
    "\n",
    "* 关键词：封装、继承、多态\n",
    "\n",
    "## 7.1 对象的魔力\n",
    "\n",
    "### 7.1.1 多态\n",
    "\n",
    "1. 多态和方法\n",
    "2. 多态的多种形式\n",
    "\n",
    "### 7.1.2 封装\n",
    "\n",
    "### 7.1.3 继承\n",
    "\n",
    "Jedi：Python的多态似乎没有C#和Java的好像（似乎很不明确）\n",
    "\n",
    "## 7.2 类和类型\n",
    "\n",
    "### 7.2.1 类到底是什么\n",
    "\n",
    "* class -> instance\n",
    "* superclass -> class -> instance\n",
    "\n",
    "### 7.2.2 创建自己的类\n"
   ]
  },
  {
   "cell_type": "code",
   "execution_count": 1,
   "metadata": {},
   "outputs": [
    {
     "name": "stdout",
     "output_type": "stream",
     "text": "Hello, world! I'm Jedi\n"
    }
   ],
   "source": [
    "__metaclass__ = type\n",
    "\n",
    "class Person:\n",
    "    def setName(self, name):\n",
    "        self.name = name\n",
    "    def getName(self):\n",
    "        return self.name\n",
    "    def greet(self):\n",
    "        print(\"Hello, world! I'm %s\" % self.name)\n",
    "        \n",
    "p = Person()\n",
    "p.setName(\"Jedi\")\n",
    "p.greet()\n"
   ]
  },
  {
   "cell_type": "code",
   "execution_count": 2,
   "metadata": {},
   "outputs": [
    {
     "data": {
      "text/plain": "'Jedi'"
     },
     "execution_count": 2,
     "metadata": {},
     "output_type": "execute_result"
    }
   ],
   "source": [
    "p.name"
   ]
  },
  {
   "cell_type": "markdown",
   "metadata": {},
   "source": [
    "### 7.2.3 特性、函数和方法"
   ]
  },
  {
   "cell_type": "code",
   "execution_count": 5,
   "metadata": {},
   "outputs": [
    {
     "name": "stdout",
     "output_type": "stream",
     "text": "I have a self!\nI don't ...\n"
    }
   ],
   "source": [
    "class Class:\n",
    "    def method(self):\n",
    "        print(\"I have a self!\")\n",
    "        \n",
    "def function():\n",
    "    print(\"I don't ...\")\n",
    "    \n",
    "instance = Class()\n",
    "instance.method()\n",
    "\n",
    "# Jedi: 这个特性让我有点茫然不知所措\n",
    "instance.method = function\n",
    "instance.method()"
   ]
  },
  {
   "cell_type": "code",
   "execution_count": 4,
   "metadata": {},
   "outputs": [
    {
     "name": "stdout",
     "output_type": "stream",
     "text": "JJ\nJJ\nJJ\n"
    }
   ],
   "source": [
    "# self可以简单的理解为this\n",
    "# 例外使用中文来创建类\n",
    "\n",
    "class 鸟:\n",
    "    song = \"JJ\"\n",
    "    def sing(self):\n",
    "        print(self.song)\n",
    "        \n",
    "小鸟 = 鸟()\n",
    "小鸟.sing()\n",
    "\n",
    "叫声 = 鸟.song\n",
    "print(叫声)\n",
    "\n",
    "叫声 = 小鸟.song\n",
    "print(叫声)"
   ]
  },
  {
   "cell_type": "markdown",
   "metadata": {},
   "source": [
    "再论私有化：Python中并不直接私有属性，也即没有prive，但可以通过“__”来实现"
   ]
  },
  {
   "cell_type": "code",
   "execution_count": 6,
   "metadata": {},
   "outputs": [
    {
     "name": "stdout",
     "output_type": "stream",
     "text": "滴滴叭叭... 呜...\n"
    }
   ],
   "source": [
    "class 小汽车:\n",
    "    def __汽车鸣笛声(self):\n",
    "        return \"滴滴叭叭... 呜...\"\n",
    "    def 鸣笛(self):\n",
    "        print(self.__汽车鸣笛声())\n",
    "        \n",
    "俺家破车 = 小汽车()\n",
    "俺家破车.鸣笛()\n",
    "\n",
    "# 直接用会报错：AttributeError: '小汽车' object has no attribute '__汽车鸣笛声'\n",
    "# 俺家破车.__汽车鸣笛声()"
   ]
  },
  {
   "cell_type": "markdown",
   "metadata": {},
   "source": [
    "关于私有这个概念，在Python中无需了解太多。\n",
    "就当这个是“命名约定”就好了！\n",
    "\n",
    "### 7.2.4 类命名空间\n",
    "\n",
    "### 7.2.5 指定超类"
   ]
  },
  {
   "cell_type": "code",
   "execution_count": 7,
   "metadata": {},
   "outputs": [
    {
     "name": "stdout",
     "output_type": "stream",
     "text": "['SPM', 'ACH']\n['ACH']\n['ACH', 'Jedi']\n"
    }
   ],
   "source": [
    "# 书中使用过滤器来做例子\n",
    "\n",
    "class Filter:\n",
    "    def init(self):\n",
    "        self.blocked = []\n",
    "    def filter(self, sequence):\n",
    "        return [x for x in sequence if x not in self.blocked]\n",
    "    \n",
    "class SPMFilter(Filter):\n",
    "    def init(self):\n",
    "        self.blocked = [\"SPM\"]\n",
    "        \n",
    "superclass = Filter()\n",
    "superclass.init()\n",
    "print(superclass.filter([\"SPM\", \"ACH\"]))  # 未做任何处理\n",
    "\n",
    "subclass = SPMFilter()\n",
    "subclass.init()\n",
    "print(subclass.filter([\"SPM\", \"ACH\"])) # 在这做了过滤\n",
    "print(subclass.filter([\"SPM\", \"ACH\", \"Jedi\", \"SPM\"]))\n"
   ]
  },
  {
   "cell_type": "markdown",
   "metadata": {},
   "source": [
    "### 7.2.6 调查继承\n",
    "\n",
    "Jedi: 实际就是识别“Is A”的问题"
   ]
  },
  {
   "cell_type": "code",
   "execution_count": 8,
   "metadata": {},
   "outputs": [
    {
     "data": {
      "text/plain": "True"
     },
     "execution_count": 8,
     "metadata": {},
     "output_type": "execute_result"
    }
   ],
   "source": [
    "issubclass(SPMFilter, Filter)\n"
   ]
  },
  {
   "cell_type": "markdown",
   "metadata": {},
   "source": [
    "还有识别实例是哪个类的问题"
   ]
  },
  {
   "cell_type": "code",
   "execution_count": 9,
   "metadata": {},
   "outputs": [
    {
     "data": {
      "text/plain": "True"
     },
     "execution_count": 9,
     "metadata": {},
     "output_type": "execute_result"
    }
   ],
   "source": [
    "isinstance(subclass, SPMFilter)"
   ]
  },
  {
   "cell_type": "code",
   "execution_count": 10,
   "metadata": {},
   "outputs": [
    {
     "data": {
      "text/plain": "True"
     },
     "execution_count": 10,
     "metadata": {},
     "output_type": "execute_result"
    }
   ],
   "source": [
    "isinstance(subclass, Filter)"
   ]
  },
  {
   "cell_type": "code",
   "execution_count": 11,
   "metadata": {},
   "outputs": [
    {
     "data": {
      "text/plain": "True"
     },
     "execution_count": 11,
     "metadata": {},
     "output_type": "execute_result"
    }
   ],
   "source": [
    "isinstance(\"abc\", str)"
   ]
  },
  {
   "cell_type": "code",
   "execution_count": 12,
   "metadata": {},
   "outputs": [
    {
     "data": {
      "text/plain": "str"
     },
     "execution_count": 12,
     "metadata": {},
     "output_type": "execute_result"
    }
   ],
   "source": [
    "# 还可以进行这样识别\n",
    "\"abc\".__class__"
   ]
  },
  {
   "cell_type": "code",
   "execution_count": 13,
   "metadata": {},
   "outputs": [
    {
     "data": {
      "text/plain": "__main__.SPMFilter"
     },
     "execution_count": 13,
     "metadata": {},
     "output_type": "execute_result"
    }
   ],
   "source": [
    "subclass.__class__"
   ]
  },
  {
   "cell_type": "markdown",
   "metadata": {},
   "source": [
    "### 7.2.7 多个超类\n",
    "\n",
    "Jedi: 这个问题显然比C++里要容易多了"
   ]
  },
  {
   "cell_type": "code",
   "execution_count": 14,
   "metadata": {},
   "outputs": [
    {
     "name": "stdout",
     "output_type": "stream",
     "text": "A.method1\nB.method2\n"
    }
   ],
   "source": [
    "# 不做那么复杂的例子了，这里简单明了点\n",
    "\n",
    "class A:\n",
    "    def method1(self):\n",
    "        print(\"A.method1\")\n",
    "\n",
    "class B:\n",
    "    def method2(self):\n",
    "        print(\"B.method2\")\n",
    "        \n",
    "class AB(A, B):\n",
    "    pass\n",
    "\n",
    "instance_ab = AB()\n",
    "instance_ab.method1()\n",
    "instance_ab.method2()"
   ]
  },
  {
   "cell_type": "markdown",
   "metadata": {},
   "source": [
    "看看方法名一样会怎么办？！"
   ]
  },
  {
   "cell_type": "code",
   "execution_count": 15,
   "metadata": {},
   "outputs": [
    {
     "name": "stdout",
     "output_type": "stream",
     "text": "A.method1\nB.method2\n"
    }
   ],
   "source": [
    "class A:\n",
    "    def method(self):\n",
    "        print(\"A.method1\")\n",
    "\n",
    "class B:\n",
    "    def method(self):\n",
    "        print(\"B.method2\")\n",
    "        \n",
    "class AB1(A, B):\n",
    "    pass\n",
    "\n",
    "class AB2(B, A):\n",
    "    pass\n",
    "\n",
    "instance_ab1 = AB1(); instance_ab1.method()\n",
    "instance_ab2 = AB2(); instance_ab2.method()\n",
    "\n",
    "# 看到没，会用较靠前的那个方法。所以Python里面有很多约定，不懂时别乱用。"
   ]
  },
  {
   "cell_type": "markdown",
   "metadata": {},
   "source": [
    "### 7.2.8 接口和内省\n",
    "\n",
    "* Python里没有显式的接口\n",
    "* 但有hasattr、hasattr(x, '__call__')。注意：我用的是Python3"
   ]
  },
  {
   "cell_type": "code",
   "execution_count": 16,
   "metadata": {},
   "outputs": [
    {
     "name": "stdout",
     "output_type": "stream",
     "text": "True\nFalse\n"
    }
   ],
   "source": [
    "print(hasattr(instance_ab1, 'method'))\n",
    "print(hasattr(instance_ab1, '__method__'))"
   ]
  },
  {
   "cell_type": "markdown",
   "metadata": {},
   "source": [
    "\"__dict__\" 的值也是要多多利用的"
   ]
  },
  {
   "cell_type": "code",
   "execution_count": 17,
   "metadata": {},
   "outputs": [
    {
     "data": {
      "text/plain": "mappingproxy({'__module__': '__main__', '__doc__': None})"
     },
     "execution_count": 17,
     "metadata": {},
     "output_type": "execute_result"
    }
   ],
   "source": [
    "AB1.__dict__"
   ]
  },
  {
   "cell_type": "markdown",
   "metadata": {},
   "source": [
    "## 7.3 一些关于面向对象设计的思考\n",
    "\n",
    "* 对象不要太耦合\n",
    "* Python里要小心继承\n",
    "* 保持简单\n",
    "* 结合UML进行思考\n",
    "\n",
    "## 7.4 小结\n",
    "\n",
    "* 概念：对象、类，封装、继承、多态、接口和内省\n",
    "* 新函数：callable, getattr, hasattr"
   ]
  }
 ],
 "metadata": {
  "kernelspec": {
   "display_name": "Python 3",
   "language": "python",
   "name": "python3"
  },
  "language_info": {
   "codemirror_mode": {
    "name": "ipython",
    "version": 3
   },
   "file_extension": ".py",
   "mimetype": "text/x-python",
   "name": "python",
   "nbconvert_exporter": "python",
   "pygments_lexer": "ipython3",
   "version": "3.7.3"
  }
 },
 "nbformat": 4,
 "nbformat_minor": 2
}