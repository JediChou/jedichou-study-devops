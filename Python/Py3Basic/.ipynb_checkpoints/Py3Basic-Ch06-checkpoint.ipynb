{
 "cells": [
  {
   "cell_type": "markdown",
   "metadata": {},
   "source": [
    "# 第6章 抽象\n",
    "\n",
    "## 6.1 懒惰即美德\n",
    "\n",
    "Jedi: 用import this来表明\n",
    "\n",
    "```\n",
    "The Zen of Python, by Tim Peters\n",
    "\n",
    "Beautiful is better than ugly.\n",
    "Explicit is better than implicit.\n",
    "Simple is better than complex.\n",
    "Complex is better than complicated.\n",
    "Flat is better than nested.\n",
    "Sparse is better than dense.\n",
    "Readability counts.\n",
    "Special cases aren't special enough to break the rules.\n",
    "Although practicality beats purity.\n",
    "Errors should never pass silently.\n",
    "Unless explicitly silenced.\n",
    "In the face of ambiguity, refuse the temptation to guess.\n",
    "There should be one-- and preferably only one --obvious way to do it.\n",
    "Although that way may not be obvious at first unless you're Dutch.\n",
    "Now is better than never.\n",
    "Although never is often better than *right* now.\n",
    "If the implementation is hard to explain, it's a bad idea.\n",
    "If the implementation is easy to explain, it may be a good idea.\n",
    "Namespaces are one honking great idea -- let's do more of those!\n",
    "```"
   ]
  },
  {
   "cell_type": "markdown",
   "metadata": {},
   "source": [
    "## 6.2 抽象和结构\n",
    "\n",
    "* 白话：下载网页、计算频率，打印每个单词的频率\n",
    "* 代码：\n",
    "\n",
    "```python\n",
    "page = download_page()\n",
    "freqs = compute_frequencies(page)\n",
    "for word, freq in freqs:\n",
    "    print(word, freq)\n",
    "```\n",
    "\n",
    "***这个方面Python真比其他语言要好很多！***"
   ]
  },
  {
   "cell_type": "markdown",
   "metadata": {},
   "source": [
    "## 6.3 创建函数\n"
   ]
  },
  {
   "cell_type": "code",
   "execution_count": 10,
   "metadata": {},
   "outputs": [
    {
     "name": "stdout",
     "output_type": "stream",
     "text": [
      "False\n",
      "True\n"
     ]
    }
   ],
   "source": [
    "## 验证对象是否可被调用\n",
    "print(callable(v))\n",
    "print(callable(math.sqrt))"
   ]
  },
  {
   "cell_type": "markdown",
   "metadata": {},
   "source": [
    "### 6.3.1 记录函数"
   ]
  },
  {
   "cell_type": "code",
   "execution_count": 13,
   "metadata": {},
   "outputs": [
    {
     "data": {
      "text/plain": [
       "'Square description'"
      ]
     },
     "execution_count": 13,
     "metadata": {},
     "output_type": "execute_result"
    }
   ],
   "source": [
    "## 函数文档\n",
    "def square(x):\n",
    "    \"\"\"Square description\"\"\"\n",
    "    return x*x\n",
    "square.__doc__"
   ]
  },
  {
   "cell_type": "markdown",
   "metadata": {},
   "source": [
    "### 6.3.2 并非函数的函数\n",
    "\n",
    "* 预设了前提条件：函数要有返回值\n",
    "* 但因为Python有None，所以任何函数缺省情况都会有None"
   ]
  },
  {
   "cell_type": "code",
   "execution_count": 14,
   "metadata": {},
   "outputs": [
    {
     "name": "stdout",
     "output_type": "stream",
     "text": [
      "abc\n",
      "None\n"
     ]
    }
   ],
   "source": [
    "# 以下举例\n",
    "def test():\n",
    "    print(\"abc\")\n",
    "a = test()\n",
    "print(a)"
   ]
  },
  {
   "cell_type": "markdown",
   "metadata": {},
   "source": [
    "# 6.4 参数魔法\n",
    "\n",
    "### 6.4.1 值从哪里来\n",
    "\n",
    "### 6.4.2 我能改变参数"
   ]
  },
  {
   "cell_type": "code",
   "execution_count": 16,
   "metadata": {},
   "outputs": [
    {
     "name": "stdout",
     "output_type": "stream",
     "text": [
      "LinXiong\n"
     ]
    }
   ],
   "source": [
    "## 形参无法改变实参\n",
    "def change_variable(n):\n",
    "    n = \"Jedi\"\n",
    "name = \"LinXiong\"\n",
    "change_variable(name)\n",
    "print(name)"
   ]
  },
  {
   "cell_type": "code",
   "execution_count": 19,
   "metadata": {},
   "outputs": [
    {
     "name": "stdout",
     "output_type": "stream",
     "text": [
      "['jedi']\n"
     ]
    }
   ],
   "source": [
    "## 但通过list等是可以改变的\n",
    "def change_variable(n):\n",
    "    n[0] = \"jedi\"\n",
    "name = [\"LinXiong\"]\n",
    "change_variable(name)\n",
    "print(name)"
   ]
  },
  {
   "cell_type": "markdown",
   "metadata": {},
   "source": [
    "### 6.4.3 关键字参数和默认值"
   ]
  },
  {
   "cell_type": "code",
   "execution_count": 20,
   "metadata": {},
   "outputs": [
    {
     "name": "stdout",
     "output_type": "stream",
     "text": [
      "hello, world\n",
      "world, hello\n"
     ]
    }
   ],
   "source": [
    "## 这个次序要注意\n",
    "## Py3倒是不存在py2里的这个问题\n",
    "def hello_1(name, greeting):\n",
    "    print(\"%s, %s\" % (name, greeting))\n",
    "def hello_2(name, greeting):\n",
    "    print(\"%s, %s\" % (greeting, name))\n",
    "hello_1(\"hello\", \"world\")\n",
    "hello_2(\"hello\", \"world\")"
   ]
  },
  {
   "cell_type": "code",
   "execution_count": 21,
   "metadata": {},
   "outputs": [
    {
     "name": "stdout",
     "output_type": "stream",
     "text": [
      "hello, world\n",
      "world, hello\n"
     ]
    }
   ],
   "source": [
    "# 有时候参数太多，以下方式标注下确实会提高可读性\n",
    "def hello_1(name, greeting):\n",
    "    print(\"%s, %s\" % (name, greeting))\n",
    "def hello_2(name, greeting):\n",
    "    print(\"%s, %s\" % (greeting, name))\n",
    "hello_1(name=\"hello\", greeting=\"world\")\n",
    "hello_2(name=\"hello\", greeting=\"world\")"
   ]
  },
  {
   "cell_type": "code",
   "execution_count": 22,
   "metadata": {},
   "outputs": [
    {
     "name": "stdout",
     "output_type": "stream",
     "text": [
      "Hi Jedi How are you!\n",
      "喂喂喂 你丫 别乱写数据呀！\n"
     ]
    }
   ],
   "source": [
    "# 设定一个默认值\n",
    "def hello_3(prefix=\"Hi\", name=\"Jedi\", greeting=\"How are you!\"):\n",
    "    print(prefix, name, greeting)\n",
    "hello_3()\n",
    "hello_3(\"喂喂喂\", \"你丫\", \"别乱写数据呀！\")"
   ]
  },
  {
   "cell_type": "markdown",
   "metadata": {},
   "source": [
    "### 6.4.3 收集参数"
   ]
  },
  {
   "cell_type": "code",
   "execution_count": 24,
   "metadata": {},
   "outputs": [
    {
     "name": "stdout",
     "output_type": "stream",
     "text": [
      "('a', 'b', 'c')\n",
      "(1, 2, 3)\n",
      "([1, 2], [3, 4])\n"
     ]
    }
   ],
   "source": [
    "# 返回的是一个元组\n",
    "# Jedi: 可以实现动态参数\n",
    "def store(*params):\n",
    "    print(params)\n",
    "store(\"a\",\"b\",\"c\")\n",
    "store(1,2,3)\n",
    "store([1,2],[3,4])"
   ]
  },
  {
   "cell_type": "code",
   "execution_count": 25,
   "metadata": {},
   "outputs": [
    {
     "name": "stdout",
     "output_type": "stream",
     "text": [
      "jedi\n",
      "('1', '2', '3')\n",
      "Lin\n",
      "('Oracle', 'SQLServer', 'MySQL')\n"
     ]
    }
   ],
   "source": [
    "# 还可以这样\n",
    "def print_params(title, *params):\n",
    "    print(title)\n",
    "    print(params)\n",
    "    \n",
    "print_params(\"jedi\", \"1\",\"2\",\"3\")\n",
    "print_params(\"Lin\", \"Oracle\", \"SQLServer\", \"MySQL\")"
   ]
  },
  {
   "cell_type": "code",
   "execution_count": 2,
   "metadata": {},
   "outputs": [
    {
     "name": "stdout",
     "output_type": "stream",
     "text": [
      "{}\n",
      "{'x': 1, 'y': 2, 'z': 3}\n"
     ]
    }
   ],
   "source": [
    "# 居然还可以这样\n",
    "def print_params2(**params):\n",
    "    print(params)\n",
    "print_params2()\n",
    "print_params2(x=1, y=2, z=3)"
   ]
  },
  {
   "cell_type": "code",
   "execution_count": 7,
   "metadata": {},
   "outputs": [
    {
     "name": "stdout",
     "output_type": "stream",
     "text": [
      "1 2 3\n",
      "()\n",
      "{}\n",
      "\n",
      "1 2 4\n",
      "(5, 6, 7)\n",
      "{}\n",
      "\n",
      "1 2 4\n",
      "(5, 6, 7)\n",
      "{'foo': 1, 'bar': 10}\n",
      "\n"
     ]
    }
   ],
   "source": [
    "# 哥！这个也太灵活了\n",
    "def print_params3(x, y, z=3, *param1, **param2):\n",
    "    print(x, y, z)\n",
    "    print(param1)\n",
    "    print(param2)\n",
    "    print()\n",
    "print_params3(1, 2)\n",
    "print_params3(1, 2, 4, 5, 6, 7)\n",
    "print_params3(1, 2, 4, 5, 6, 7, foo=1, bar=10)"
   ]
  },
  {
   "cell_type": "markdown",
   "metadata": {},
   "source": [
    "### 6.4.5 反转过程"
   ]
  },
  {
   "cell_type": "code",
   "execution_count": 8,
   "metadata": {},
   "outputs": [
    {
     "data": {
      "text/plain": [
       "3"
      ]
     },
     "execution_count": 8,
     "metadata": {},
     "output_type": "execute_result"
    }
   ],
   "source": [
    "# 这个是6.4.4的直接应用\n",
    "def add(x, y): return x+y\n",
    "params = (1,2)\n",
    "add(*params)"
   ]
  },
  {
   "cell_type": "code",
   "execution_count": 12,
   "metadata": {},
   "outputs": [
    {
     "name": "stdout",
     "output_type": "stream",
     "text": [
      "厉害了我的哥, Jedi\n"
     ]
    }
   ],
   "source": [
    "# 来个字典\n",
    "# Jedi: 好像指针操作\n",
    "def hello_3(**params):\n",
    "    print(\"%s, %s\" % (params[\"greeting\"], params[\"name\"]))\n",
    "params = {\"name\":\"Jedi\", \"greeting\":\"厉害了我的哥\"}\n",
    "hello_3(**params)"
   ]
  },
  {
   "cell_type": "markdown",
   "metadata": {},
   "source": [
    "## 6.4.6 练习使用参数"
   ]
  },
  {
   "cell_type": "code",
   "execution_count": 36,
   "metadata": {},
   "outputs": [
    {
     "name": "stdout",
     "output_type": "stream",
     "text": [
      "Once upon a time, there was a python coder call Jedi\n",
      "Once upon a time, there was a Office lady call Becky\n"
     ]
    }
   ],
   "source": [
    "## story\n",
    "def story(**kwds):\n",
    "    print(\"Once upon a time, there was a %(job)s call %(name)s\" % kwds)\n",
    "story(name=\"Jedi\", job=\"python coder\")\n",
    "story(job=\"Office lady\", name=\"Becky\")"
   ]
  },
  {
   "cell_type": "code",
   "execution_count": 47,
   "metadata": {},
   "outputs": [
    {
     "name": "stdout",
     "output_type": "stream",
     "text": [
      "8.0\n",
      "9.0\n",
      "16.0\n",
      "125.0\n",
      "其他的信息是: ((1, 2),)\n",
      "8.0\n",
      "其他的信息是: ('hello',)\n",
      "1024.0\n"
     ]
    }
   ],
   "source": [
    "## pow\n",
    "from math import pow\n",
    "def pow_self(x, y, *others):\n",
    "    if others:\n",
    "        print(\"其他的信息是:\", others)\n",
    "    print(pow(x, y))\n",
    "pow_self(2, 3)\n",
    "pow_self(3, 2)\n",
    "pow_self(y=2, x=4)\n",
    "pow_self(x=5, y=3)\n",
    "param = (1,2); pow_self(2,3, param)\n",
    "param = \"hello\"; pow_self(4,5, param)"
   ]
  },
  {
   "cell_type": "code",
   "execution_count": 6,
   "metadata": {},
   "outputs": [
    {
     "name": "stdout",
     "output_type": "stream",
     "text": [
      "[0, 1, 2, 3, 4, 5, 6, 7, 8, 9]\n",
      "[0, 1, 2, 3, 4, 5, 6, 7, 8, 9]\n",
      "[1, 2, 3, 4, 5, 6, 7, 8, 9]\n",
      "[1, 3, 5, 7, 9]\n",
      "[1, 4, 7]\n"
     ]
    }
   ],
   "source": [
    "## interval\n",
    "def interval(start, stop=None, step=1):\n",
    "    if stop is None:\n",
    "        start, stop = 0, start\n",
    "    result = []\n",
    "    i = start\n",
    "    while i < stop:\n",
    "        result.append(i)\n",
    "        i += step\n",
    "    return result\n",
    "\n",
    "print(interval(10))\n",
    "print(interval(0, 10))\n",
    "print(interval(1, 10))\n",
    "print(interval(1, 10, 2))\n",
    "print(interval(1, 10, 3))"
   ]
  },
  {
   "cell_type": "markdown",
   "metadata": {},
   "source": [
    "## 6.5 作用域"
   ]
  },
  {
   "cell_type": "code",
   "execution_count": 9,
   "metadata": {},
   "outputs": [
    {
     "data": {
      "text/plain": [
       "{'In': ['',\n",
       "  '## interval\\ndef interval(start, stop=None, step=1):\\n    if stop is None:\\n        start, stop = 0, start\\n    result = {}\\n    i = start\\n    while i < stop:\\n        result.append(i)\\n        i += step\\n    return result\\n\\nprint(interval(10))',\n",
       "  '## interval\\ndef interval(start, stop=None, step=1):\\n    if stop is None:\\n        start, stop = 0, start\\n    result = []\\n    i = start\\n    while i < stop:\\n        result.append(i)\\n        i += step\\n    return result\\n\\nprint(interval(10))',\n",
       "  '## interval\\ndef interval(start, stop=None, step=1):\\n    if stop is None:\\n        start, stop = 0, start\\n    result = []\\n    i = start\\n    while i < stop:\\n        result.append(i)\\n        i += step\\n    return result\\n\\nprint(interval(10))\\nprint(interval(0, 10))',\n",
       "  '## interval\\ndef interval(start, stop=None, step=1):\\n    if stop is None:\\n        start, stop = 0, start\\n    result = []\\n    i = start\\n    while i < stop:\\n        result.append(i)\\n        i += step\\n    return result\\n\\nprint(interval(10))\\nprint(interval(0, 10))\\nprint(interval(1, 10))',\n",
       "  '## interval\\ndef interval(start, stop=None, step=1):\\n    if stop is None:\\n        start, stop = 0, start\\n    result = []\\n    i = start\\n    while i < stop:\\n        result.append(i)\\n        i += step\\n    return result\\n\\nprint(interval(10))\\nprint(interval(0, 10))\\nprint(interval(1, 10))\\nprint(interval(1, 10, 2))',\n",
       "  '## interval\\ndef interval(start, stop=None, step=1):\\n    if stop is None:\\n        start, stop = 0, start\\n    result = []\\n    i = start\\n    while i < stop:\\n        result.append(i)\\n        i += step\\n    return result\\n\\nprint(interval(10))\\nprint(interval(0, 10))\\nprint(interval(1, 10))\\nprint(interval(1, 10, 2))\\nprint(interval(1, 10, 3))',\n",
       "  'x, y, z = 1, 2, 3\\nvars()',\n",
       "  'x, y, z = 1, 2, 3\\nscope = vars()\\nprint(scope)',\n",
       "  '# 全部的变量\\nvars()'],\n",
       " 'Out': {7: {...}},\n",
       " '_': {...},\n",
       " '_7': {...},\n",
       " '__': '',\n",
       " '___': '',\n",
       " '__builtin__': <module 'builtins' (built-in)>,\n",
       " '__builtins__': <module 'builtins' (built-in)>,\n",
       " '__doc__': 'Automatically created module for IPython interactive environment',\n",
       " '__loader__': None,\n",
       " '__name__': '__main__',\n",
       " '__package__': None,\n",
       " '__spec__': None,\n",
       " '_dh': ['D:\\\\Jedi\\\\workspace\\\\jedichou-study-python\\\\Py3Basic'],\n",
       " '_i': 'x, y, z = 1, 2, 3\\nscope = vars()\\nprint(scope)',\n",
       " '_i1': '## interval\\ndef interval(start, stop=None, step=1):\\n    if stop is None:\\n        start, stop = 0, start\\n    result = {}\\n    i = start\\n    while i < stop:\\n        result.append(i)\\n        i += step\\n    return result\\n\\nprint(interval(10))',\n",
       " '_i2': '## interval\\ndef interval(start, stop=None, step=1):\\n    if stop is None:\\n        start, stop = 0, start\\n    result = []\\n    i = start\\n    while i < stop:\\n        result.append(i)\\n        i += step\\n    return result\\n\\nprint(interval(10))',\n",
       " '_i3': '## interval\\ndef interval(start, stop=None, step=1):\\n    if stop is None:\\n        start, stop = 0, start\\n    result = []\\n    i = start\\n    while i < stop:\\n        result.append(i)\\n        i += step\\n    return result\\n\\nprint(interval(10))\\nprint(interval(0, 10))',\n",
       " '_i4': '## interval\\ndef interval(start, stop=None, step=1):\\n    if stop is None:\\n        start, stop = 0, start\\n    result = []\\n    i = start\\n    while i < stop:\\n        result.append(i)\\n        i += step\\n    return result\\n\\nprint(interval(10))\\nprint(interval(0, 10))\\nprint(interval(1, 10))',\n",
       " '_i5': '## interval\\ndef interval(start, stop=None, step=1):\\n    if stop is None:\\n        start, stop = 0, start\\n    result = []\\n    i = start\\n    while i < stop:\\n        result.append(i)\\n        i += step\\n    return result\\n\\nprint(interval(10))\\nprint(interval(0, 10))\\nprint(interval(1, 10))\\nprint(interval(1, 10, 2))',\n",
       " '_i6': '## interval\\ndef interval(start, stop=None, step=1):\\n    if stop is None:\\n        start, stop = 0, start\\n    result = []\\n    i = start\\n    while i < stop:\\n        result.append(i)\\n        i += step\\n    return result\\n\\nprint(interval(10))\\nprint(interval(0, 10))\\nprint(interval(1, 10))\\nprint(interval(1, 10, 2))\\nprint(interval(1, 10, 3))',\n",
       " '_i7': 'x, y, z = 1, 2, 3\\nvars()',\n",
       " '_i8': 'x, y, z = 1, 2, 3\\nscope = vars()\\nprint(scope)',\n",
       " '_i9': '# 全部的变量\\nvars()',\n",
       " '_ih': ['',\n",
       "  '## interval\\ndef interval(start, stop=None, step=1):\\n    if stop is None:\\n        start, stop = 0, start\\n    result = {}\\n    i = start\\n    while i < stop:\\n        result.append(i)\\n        i += step\\n    return result\\n\\nprint(interval(10))',\n",
       "  '## interval\\ndef interval(start, stop=None, step=1):\\n    if stop is None:\\n        start, stop = 0, start\\n    result = []\\n    i = start\\n    while i < stop:\\n        result.append(i)\\n        i += step\\n    return result\\n\\nprint(interval(10))',\n",
       "  '## interval\\ndef interval(start, stop=None, step=1):\\n    if stop is None:\\n        start, stop = 0, start\\n    result = []\\n    i = start\\n    while i < stop:\\n        result.append(i)\\n        i += step\\n    return result\\n\\nprint(interval(10))\\nprint(interval(0, 10))',\n",
       "  '## interval\\ndef interval(start, stop=None, step=1):\\n    if stop is None:\\n        start, stop = 0, start\\n    result = []\\n    i = start\\n    while i < stop:\\n        result.append(i)\\n        i += step\\n    return result\\n\\nprint(interval(10))\\nprint(interval(0, 10))\\nprint(interval(1, 10))',\n",
       "  '## interval\\ndef interval(start, stop=None, step=1):\\n    if stop is None:\\n        start, stop = 0, start\\n    result = []\\n    i = start\\n    while i < stop:\\n        result.append(i)\\n        i += step\\n    return result\\n\\nprint(interval(10))\\nprint(interval(0, 10))\\nprint(interval(1, 10))\\nprint(interval(1, 10, 2))',\n",
       "  '## interval\\ndef interval(start, stop=None, step=1):\\n    if stop is None:\\n        start, stop = 0, start\\n    result = []\\n    i = start\\n    while i < stop:\\n        result.append(i)\\n        i += step\\n    return result\\n\\nprint(interval(10))\\nprint(interval(0, 10))\\nprint(interval(1, 10))\\nprint(interval(1, 10, 2))\\nprint(interval(1, 10, 3))',\n",
       "  'x, y, z = 1, 2, 3\\nvars()',\n",
       "  'x, y, z = 1, 2, 3\\nscope = vars()\\nprint(scope)',\n",
       "  '# 全部的变量\\nvars()'],\n",
       " '_ii': 'x, y, z = 1, 2, 3\\nvars()',\n",
       " '_iii': '## interval\\ndef interval(start, stop=None, step=1):\\n    if stop is None:\\n        start, stop = 0, start\\n    result = []\\n    i = start\\n    while i < stop:\\n        result.append(i)\\n        i += step\\n    return result\\n\\nprint(interval(10))\\nprint(interval(0, 10))\\nprint(interval(1, 10))\\nprint(interval(1, 10, 2))\\nprint(interval(1, 10, 3))',\n",
       " '_oh': {7: {...}},\n",
       " 'exit': <IPython.core.autocall.ZMQExitAutocall at 0x3f016f0>,\n",
       " 'get_ipython': <bound method InteractiveShell.get_ipython of <ipykernel.zmqshell.ZMQInteractiveShell object at 0x03EC3A10>>,\n",
       " 'interval': <function __main__.interval>,\n",
       " 'quit': <IPython.core.autocall.ZMQExitAutocall at 0x3f016f0>,\n",
       " 'scope': {...},\n",
       " 'x': 1,\n",
       " 'y': 2,\n",
       " 'z': 3}"
      ]
     },
     "execution_count": 9,
     "metadata": {},
     "output_type": "execute_result"
    }
   ],
   "source": [
    "# 全部的变量\n",
    "vars()"
   ]
  },
  {
   "cell_type": "code",
   "execution_count": 10,
   "metadata": {},
   "outputs": [
    {
     "name": "stdout",
     "output_type": "stream",
     "text": [
      "1 2 3\n"
     ]
    }
   ],
   "source": [
    "# 我们的变量存着咧\n",
    "x, y, z = 1, 2, 3\n",
    "scope = vars()\n",
    "print(scope['x'], scope['y'], scope['z'])"
   ]
  },
  {
   "cell_type": "code",
   "execution_count": 11,
   "metadata": {},
   "outputs": [
    {
     "name": "stdout",
     "output_type": "stream",
     "text": [
      "2\n"
     ]
    }
   ],
   "source": [
    "# 还可以直接更改\n",
    "x = 1\n",
    "scope = vars()\n",
    "scope['x'] = 2\n",
    "print(x)"
   ]
  },
  {
   "cell_type": "code",
   "execution_count": 10,
   "metadata": {},
   "outputs": [
    {
     "name": "stdout",
     "output_type": "stream",
     "text": [
      "1\n"
     ]
    }
   ],
   "source": [
    "# 这样是不能改变的\n",
    "x = 1\n",
    "def addOne(x):\n",
    "    x += 1\n",
    "addOne(x)\n",
    "print(x)"
   ]
  },
  {
   "cell_type": "code",
   "execution_count": 12,
   "metadata": {},
   "outputs": [
    {
     "name": "stdout",
     "output_type": "stream",
     "text": [
      "2\n"
     ]
    }
   ],
   "source": [
    "# 但这样是可以的\n",
    "# Jedi: 注意 -> 不带参数，不建议写这样的函数，危险且不容易调试\n",
    "# Jedi: Python的作用域没有C那么复杂，但也可以出很多考题（浅见）\n",
    "x = 1\n",
    "def addOne():\n",
    "    global x\n",
    "    x += 1\n",
    "addOne()\n",
    "print(x)"
   ]
  },
  {
   "cell_type": "markdown",
   "metadata": {},
   "source": [
    "## 6.6 递归\n",
    "\n",
    "### 6.6.1 两个经典：阶乘和幂"
   ]
  },
  {
   "cell_type": "code",
   "execution_count": 20,
   "metadata": {},
   "outputs": [
    {
     "name": "stdout",
     "output_type": "stream",
     "text": [
      "1 2 6 24 120 720\n"
     ]
    }
   ],
   "source": [
    "# 计算阶乘\n",
    "def factorial(n):\n",
    "    result = 1\n",
    "    for i in list(range(1, n+1)):\n",
    "        result *= i\n",
    "    return result\n",
    "t = factorial\n",
    "print(t(1), t(2), t(3), t(4), t(5), t(6))"
   ]
  },
  {
   "cell_type": "code",
   "execution_count": 23,
   "metadata": {},
   "outputs": [
    {
     "name": "stdout",
     "output_type": "stream",
     "text": [
      "1 2 6 24 120 720\n"
     ]
    }
   ],
   "source": [
    "# 计算阶乘（递归版）\n",
    "def factorial(n):\n",
    "    if n== 1:\n",
    "        return 1\n",
    "    else:\n",
    "        return n * factorial(n-1)\n",
    "t = factorial\n",
    "print(t(1), t(2), t(3), t(4), t(5), t(6))"
   ]
  },
  {
   "cell_type": "code",
   "execution_count": 8,
   "metadata": {},
   "outputs": [
    {
     "name": "stdout",
     "output_type": "stream",
     "text": [
      "1 4 27 625\n",
      "2 4 8 16\n"
     ]
    }
   ],
   "source": [
    "# 计算幂(普通版)\n",
    "def pow(x, n):\n",
    "    result = 1\n",
    "    for elt in list(range(n)):\n",
    "        result *= x\n",
    "    return result\n",
    "print(pow(1, 1), pow(2, 2), pow(3, 3), pow(25, 2))\n",
    "print(pow(2, 1), pow(2, 2), pow(2, 3), pow(2, 4))"
   ]
  },
  {
   "cell_type": "code",
   "execution_count": 9,
   "metadata": {},
   "outputs": [
    {
     "name": "stdout",
     "output_type": "stream",
     "text": [
      "1 4 27 625\n",
      "2 4 8 16\n"
     ]
    }
   ],
   "source": [
    "# 计算幂（递归版）\n",
    "def pow(x, n):\n",
    "    if n== 1:\n",
    "        return x\n",
    "    else:\n",
    "        return x * pow(x, n-1)\n",
    "print(pow(1, 1), pow(2, 2), pow(3, 3), pow(25, 2))\n",
    "print(pow(2, 1), pow(2, 2), pow(2, 3), pow(2, 4))"
   ]
  },
  {
   "cell_type": "markdown",
   "metadata": {},
   "source": [
    "### 6.6.2 二元查找"
   ]
  },
  {
   "cell_type": "code",
   "execution_count": 33,
   "metadata": {},
   "outputs": [
    {
     "name": "stdout",
     "output_type": "stream",
     "text": [
      "[3, 12, 25, 34, 56]\n",
      "3\n"
     ]
    }
   ],
   "source": [
    "## 二分查找\n",
    "def binary_search(seq, num, low=0, upper=None):\n",
    "    if upper is None: upper = len(seq)-1\n",
    "    if low == upper:\n",
    "        assert num == seq[upper]\n",
    "        return upper\n",
    "    else:\n",
    "        mid = (low + upper) // 2\n",
    "        if num > seq[mid]:\n",
    "            return binary_search(seq, num, mid+1, upper)\n",
    "        else:\n",
    "            return binary_search(seq, num, low, mid)\n",
    "\n",
    "seq_target = [25, 34, 56, 12, 3]\n",
    "seq_target.sort()\n",
    "print(seq_target)\n",
    "print(binary_search(seq_target, 34))"
   ]
  },
  {
   "cell_type": "code",
   "execution_count": 39,
   "metadata": {},
   "outputs": [
    {
     "name": "stdout",
     "output_type": "stream",
     "text": [
      "['0', '1', '2', '3', '4', '5', '6']\n",
      "['0', '1', '2', '3', '4', '5', '6']\n"
     ]
    }
   ],
   "source": [
    "# 增补内容：函数到处放\n",
    "# 这两者等效\n",
    "s, t = \"abcdefg\", \"abcdefg\"\n",
    "print(list(map(str, range(len(s)))))\n",
    "print([str(t) for t in list(range(len(t)))])"
   ]
  },
  {
   "cell_type": "code",
   "execution_count": 47,
   "metadata": {},
   "outputs": [
    {
     "data": {
      "text/plain": [
       "[1, 2]"
      ]
     },
     "execution_count": 47,
     "metadata": {},
     "output_type": "execute_result"
    }
   ],
   "source": [
    "# 增补内容：函数到处放\n",
    "# 使用过滤\n",
    "def func(x): return type(x) == type(1)\n",
    "seq = ['a', 'b', 1, 2]\n",
    "list(filter(func, seq))"
   ]
  },
  {
   "cell_type": "code",
   "execution_count": 48,
   "metadata": {},
   "outputs": [
    {
     "data": {
      "text/plain": [
       "[1, 2]"
      ]
     },
     "execution_count": 48,
     "metadata": {},
     "output_type": "execute_result"
    }
   ],
   "source": [
    "# 和前者等效\n",
    "seq = ['a', 'b', 1, 2]\n",
    "[x for x in seq if type(x) == type(1)]"
   ]
  },
  {
   "cell_type": "code",
   "execution_count": 51,
   "metadata": {},
   "outputs": [
    {
     "data": {
      "text/plain": [
       "[1, 2]"
      ]
     },
     "execution_count": 51,
     "metadata": {},
     "output_type": "execute_result"
    }
   ],
   "source": [
    "# 最后是拉姆达表达式的例子\n",
    "seq = ['a', 'b', 1, 2]\n",
    "t = lambda x: type(x) == type(1)\n",
    "[x for x in seq if t(x)]"
   ]
  }
 ],
 "metadata": {
  "kernelspec": {
   "display_name": "Python 3",
   "language": "python",
   "name": "python3"
  },
  "language_info": {
   "codemirror_mode": {
    "name": "ipython",
    "version": 3
   },
   "file_extension": ".py",
   "mimetype": "text/x-python",
   "name": "python",
   "nbconvert_exporter": "python",
   "pygments_lexer": "ipython3",
   "version": "3.6.4"
  }
 },
 "nbformat": 4,
 "nbformat_minor": 2
}
