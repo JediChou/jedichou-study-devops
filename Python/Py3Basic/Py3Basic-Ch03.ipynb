{
 "cells": [
  {
   "cell_type": "markdown",
   "metadata": {},
   "source": [
    "# 第3章 使用字符串\n",
    "\n",
    "## 3.1 基本字符串操作"
   ]
  },
  {
   "cell_type": "code",
   "execution_count": 2,
   "metadata": {},
   "outputs": [
    {
     "data": {
      "text/plain": [
       "'esign.efoxconn.com'"
      ]
     },
     "execution_count": 2,
     "metadata": {},
     "output_type": "execute_result"
    }
   ],
   "source": [
    "# 将字符串当作列表看，然后做切片或索引操作\n",
    "website_url = \"http://esign.efoxconn.com\"\n",
    "website_url[7:]"
   ]
  },
  {
   "cell_type": "markdown",
   "metadata": {},
   "source": [
    "## 3.2 字符串格式化"
   ]
  },
  {
   "cell_type": "code",
   "execution_count": 3,
   "metadata": {},
   "outputs": [
    {
     "name": "stdout",
     "output_type": "stream",
     "text": [
      "丫的, 你小子别给装怂！赶快把零食拿出来。\n"
     ]
    }
   ],
   "source": [
    "# 这个就是类似printf里格式化的意思\n",
    "format = \"%s, 你小子别给装怂！赶快把%s拿出来。\"\n",
    "values = (\"丫的\", \"零食\")\n",
    "print(format % values)"
   ]
  },
  {
   "cell_type": "code",
   "execution_count": 5,
   "metadata": {},
   "outputs": [
    {
     "name": "stdout",
     "output_type": "stream",
     "text": [
      "49.00 = 4.00^2+2*4.003.00+3.00^2\n"
     ]
    }
   ],
   "source": [
    "# 浮点数的格式化\n",
    "math_format = \"%.2f = %.2f^2+2*%.2f%.2f+%.2f^2\"\n",
    "values = (49., 4., 4., 3., 3.)\n",
    "print(math_format % values)"
   ]
  },
  {
   "cell_type": "code",
   "execution_count": 23,
   "metadata": {},
   "outputs": [
    {
     "data": {
      "text/plain": [
       "'林雄, 你这个鸟人！赶快把数据库备份下。'"
      ]
     },
     "execution_count": 23,
     "metadata": {},
     "output_type": "execute_result"
    }
   ],
   "source": [
    "## 使用模板\n",
    "## Jedi: 这种方式在Django中应该会很常见，就像ASP.NET MVC里的Razor引擎一样\n",
    "from string import Template\n",
    "s =  Template(\"$x, 你这个鸟人！$msg\")\n",
    "s.substitute(x=\"林雄\", msg=\"赶快把数据库备份下。\")"
   ]
  },
  {
   "cell_type": "code",
   "execution_count": 25,
   "metadata": {},
   "outputs": [
    {
     "data": {
      "text/plain": [
       "'$20，这也太贵了吧。'"
      ]
     },
     "execution_count": 25,
     "metadata": {},
     "output_type": "execute_result"
    }
   ],
   "source": [
    "## 使用模块\n",
    "## Jedi: 有些特殊字符也要转义\n",
    "from string import Template\n",
    "s = Template(\"$$$x，这也太贵了吧。\")\n",
    "s.substitute(x='20') # $$有一个会转义成$"
   ]
  },
  {
   "cell_type": "code",
   "execution_count": 28,
   "metadata": {},
   "outputs": [
    {
     "data": {
      "text/plain": [
       "\"To 进勇, 我滴个乖乖！你玩的这个'VMWare'简直太溜了。\""
      ]
     },
     "execution_count": 28,
     "metadata": {},
     "output_type": "execute_result"
    }
   ],
   "source": [
    "## Template还可以使用字典的形式\n",
    "from string import Template\n",
    "mail_body = Template(\"To $name, 我滴个乖乖！你玩的这个'$game'简直太$level了。\")\n",
    "params = {}\n",
    "params['name'] = \"进勇\"\n",
    "params['game'] = \"VMWare\"\n",
    "params['level']= \"溜\"\n",
    "mail_body.substitute(params)"
   ]
  },
  {
   "cell_type": "markdown",
   "metadata": {},
   "source": [
    "## 3.3 字符串格式化：完整版\n",
    "\n",
    "* %：标记有转换\n",
    "* 转换标志：+和-（转换值的前面加正负号）、0（表示用零填充空白）可选。\n",
    "* 最小字符宽度：*\n",
    "* 点（.）：跟精度\n",
    "* 转换表（其实和C差不多）"
   ]
  },
  {
   "cell_type": "markdown",
   "metadata": {},
   "source": [
    "### 3.3.1 简单的转换"
   ]
  },
  {
   "cell_type": "code",
   "execution_count": 29,
   "metadata": {},
   "outputs": [
    {
     "data": {
      "text/plain": [
       "'price of egg: $42'"
      ]
     },
     "execution_count": 29,
     "metadata": {},
     "output_type": "execute_result"
    }
   ],
   "source": [
    "\"price of egg: $%d\" % 42"
   ]
  },
  {
   "cell_type": "code",
   "execution_count": 31,
   "metadata": {},
   "outputs": [
    {
     "data": {
      "text/plain": [
       "'Pi: 3.141593'"
      ]
     },
     "execution_count": 31,
     "metadata": {},
     "output_type": "execute_result"
    }
   ],
   "source": [
    "from math import pi\n",
    "\"Pi: %f\" % pi"
   ]
  },
  {
   "cell_type": "code",
   "execution_count": 32,
   "metadata": {},
   "outputs": [
    {
     "data": {
      "text/plain": [
       "\"'hello world' length: 11\""
      ]
     },
     "execution_count": 32,
     "metadata": {},
     "output_type": "execute_result"
    }
   ],
   "source": [
    "\"'hello world' length: %d\" % len(\"hello world\")"
   ]
  },
  {
   "cell_type": "markdown",
   "metadata": {},
   "source": [
    "### 3.3.2 字段宽度和精度"
   ]
  },
  {
   "cell_type": "code",
   "execution_count": 36,
   "metadata": {},
   "outputs": [
    {
     "name": "stdout",
     "output_type": "stream",
     "text": [
      "Pi:   3.141593\n",
      "14\n"
     ]
    }
   ],
   "source": [
    "# 不含小数点，宽度为10，加上“Pi: ”为14\n",
    "from math import pi\n",
    "print(\"Pi: %10f\" % pi)\n",
    "print(len(\"Pi: %10f\" % pi))"
   ]
  },
  {
   "cell_type": "code",
   "execution_count": 41,
   "metadata": {},
   "outputs": [
    {
     "data": {
      "text/plain": [
       "'Pi:       3.14'"
      ]
     },
     "execution_count": 41,
     "metadata": {},
     "output_type": "execute_result"
    }
   ],
   "source": [
    "# 后面还是10个长度，但Pi只保留2位精度\n",
    "from math import pi\n",
    "\"Pi: %10.2f\" % pi"
   ]
  },
  {
   "cell_type": "code",
   "execution_count": 42,
   "metadata": {},
   "outputs": [
    {
     "data": {
      "text/plain": [
       "'Pi: 3.14'"
      ]
     },
     "execution_count": 42,
     "metadata": {},
     "output_type": "execute_result"
    }
   ],
   "source": [
    "# 只有精度没有宽度\n",
    "from math import pi\n",
    "\"Pi: %.2f\" % pi"
   ]
  },
  {
   "cell_type": "code",
   "execution_count": 46,
   "metadata": {},
   "outputs": [
    {
     "data": {
      "text/plain": [
       "'林雄'"
      ]
     },
     "execution_count": 46,
     "metadata": {},
     "output_type": "execute_result"
    }
   ],
   "source": [
    "# 用长度取值\n",
    "\"%.*s\" % (2, u\"林雄你这个鸟人\")"
   ]
  },
  {
   "cell_type": "markdown",
   "metadata": {},
   "source": [
    "### 3.3.3 符号、对齐和0的填充"
   ]
  },
  {
   "cell_type": "code",
   "execution_count": 3,
   "metadata": {},
   "outputs": [
    {
     "data": {
      "text/plain": [
       "'0000003.14'"
      ]
     },
     "execution_count": 3,
     "metadata": {},
     "output_type": "execute_result"
    }
   ],
   "source": [
    "# Jedi: 相当于0是占位符\n",
    "from math import pi\n",
    "\"%010.2f\" % pi"
   ]
  },
  {
   "cell_type": "code",
   "execution_count": 4,
   "metadata": {},
   "outputs": [
    {
     "data": {
      "text/plain": [
       "'3.14      '"
      ]
     },
     "execution_count": 4,
     "metadata": {},
     "output_type": "execute_result"
    }
   ],
   "source": [
    "# Jedi: 使用负号，表示左对齐，占位符向右边填充\n",
    "# Jedi: 也即数字从左边开始填充，空白部分用占位符填充\n",
    "from math import pi\n",
    "\"%-10.2f\" % pi"
   ]
  },
  {
   "cell_type": "code",
   "execution_count": 11,
   "metadata": {},
   "outputs": [
    {
     "name": "stdout",
     "output_type": "stream",
     "text": [
      "   10\n",
      " -100\n"
     ]
    }
   ],
   "source": [
    "# 用空格来表示正负数，对数字有用\n",
    "# Notice: 不过在Py3中似乎无效！\n",
    "print(\"% 5d\" % 10)\n",
    "print(\"% 5d\" % -100)"
   ]
  },
  {
   "cell_type": "markdown",
   "metadata": {},
   "source": [
    "## 3.4 字符串方法\n",
    "\n",
    "### 3.4.1 find\n",
    "\n",
    "**Jedi: 这个find方法可以出很多面试题，要多多练习！**"
   ]
  },
  {
   "cell_type": "code",
   "execution_count": 18,
   "metadata": {},
   "outputs": [
    {
     "name": "stdout",
     "output_type": "stream",
     "text": [
      "你丫真的是好烦人呀，能不能不要那么烦人\n",
      "烦人\n"
     ]
    }
   ],
   "source": [
    "# 举例1 - 找打了\n",
    "a, item = \"你丫真的是好烦人呀，能不能不要那么烦人\", \"烦人\"\n",
    "b = a.find(item)\n",
    "print(a)\n",
    "print(a[b:b+2])"
   ]
  },
  {
   "cell_type": "code",
   "execution_count": 17,
   "metadata": {},
   "outputs": [
    {
     "data": {
      "text/plain": [
       "-1"
      ]
     },
     "execution_count": 17,
     "metadata": {},
     "output_type": "execute_result"
    }
   ],
   "source": [
    "# 举例2-没找到\n",
    "\"没找到呀，没找到！\".find(\"#\")"
   ]
  },
  {
   "cell_type": "code",
   "execution_count": 19,
   "metadata": {},
   "outputs": [
    {
     "data": {
      "text/plain": [
       "0"
      ]
     },
     "execution_count": 19,
     "metadata": {},
     "output_type": "execute_result"
    }
   ],
   "source": [
    "# 举例3-返回0并不是没找到，而是一开始就找到了\n",
    "\"$$$ 啊哈Python $$$\".find(\"$$$\")"
   ]
  },
  {
   "cell_type": "code",
   "execution_count": 23,
   "metadata": {},
   "outputs": [
    {
     "name": "stdout",
     "output_type": "stream",
     "text": [
      "15\n"
     ]
    }
   ],
   "source": [
    "# 举例4-这个方法还可以接受开始位置\n",
    "a=\"$$$ 骨的猫腻、故得以茯苓 $$$\"\n",
    "b=a.find(\"$$$\", 2)\n",
    "print(b)"
   ]
  },
  {
   "cell_type": "code",
   "execution_count": 26,
   "metadata": {},
   "outputs": [
    {
     "name": "stdout",
     "output_type": "stream",
     "text": [
      "15\n"
     ]
    }
   ],
   "source": [
    "# 举例5-还可以有一个结束位置\n",
    "a=\"$$$ 骨的猫腻、故得以茯苓 $$$\"\n",
    "b=a.find(\"$$$\", 2, len(a))\n",
    "print(b)"
   ]
  },
  {
   "cell_type": "code",
   "execution_count": 79,
   "metadata": {},
   "outputs": [
    {
     "data": {
      "text/plain": [
       "[8, 13, 14]"
      ]
     },
     "execution_count": 79,
     "metadata": {},
     "output_type": "execute_result"
    }
   ],
   "source": [
    "# 思考题: 找出所有1的索引列表\n",
    "def unique_index(L, e):\n",
    "    return [idx for (idx, val) in enumerate(L) if val == e]\n",
    "unique_index(\"0123456789101112\", \"1\")\n",
    "unique_index(\"Python是个好玩意，要好好学习\", \"好\")"
   ]
  },
  {
   "cell_type": "code",
   "execution_count": 83,
   "metadata": {},
   "outputs": [
    {
     "name": "stdout",
     "output_type": "stream",
     "text": [
      "[1, 10, 12, 13, 14]\n",
      "[8, 13, 14]\n",
      "[12, 13]\n",
      "[13]\n"
     ]
    }
   ],
   "source": [
    "# 思考题：进一步\n",
    "def unique_index(L, e):\n",
    "    l = len(e)\n",
    "    if l == 1:\n",
    "        return [idx for (idx, val) in enumerate(L) if val == e]\n",
    "    else:\n",
    "        return [idx for (idx, val) in enumerate(L) if L[idx:idx+l] == e]\n",
    "print(unique_index(\"0123456789101112\", \"1\"))\n",
    "print(unique_index(\"Python是个好玩意，要好好学习\", \"好\"))\n",
    "print(unique_index(\"0123456789101112\", \"11\"))\n",
    "print(unique_index(\"Python是个好玩意，要好好学习\", \"好好\"))"
   ]
  },
  {
   "cell_type": "markdown",
   "metadata": {},
   "source": [
    "### 3.4.2 join\n",
    "\n",
    "Jedi: 相比较find，其实join还算是比较简单的"
   ]
  },
  {
   "cell_type": "code",
   "execution_count": 87,
   "metadata": {},
   "outputs": [
    {
     "data": {
      "text/plain": [
       "'abc'"
      ]
     },
     "execution_count": 87,
     "metadata": {},
     "output_type": "execute_result"
    }
   ],
   "source": [
    "\"\".join(['a','b','c'])"
   ]
  },
  {
   "cell_type": "code",
   "execution_count": 89,
   "metadata": {},
   "outputs": [
    {
     "ename": "TypeError",
     "evalue": "sequence item 0: expected str instance, int found",
     "output_type": "error",
     "traceback": [
      "\u001b[1;31m---------------------------------------------------------------------------\u001b[0m",
      "\u001b[1;31mTypeError\u001b[0m                                 Traceback (most recent call last)",
      "\u001b[1;32m<ipython-input-89-514eb258fcfb>\u001b[0m in \u001b[0;36m<module>\u001b[1;34m()\u001b[0m\n\u001b[0;32m      1\u001b[0m \u001b[1;31m# 注意：这样会出错\u001b[0m\u001b[1;33m\u001b[0m\u001b[1;33m\u001b[0m\u001b[0m\n\u001b[1;32m----> 2\u001b[1;33m \u001b[1;34m\"+\"\u001b[0m\u001b[1;33m.\u001b[0m\u001b[0mjoin\u001b[0m\u001b[1;33m(\u001b[0m\u001b[1;33m[\u001b[0m\u001b[1;36m1\u001b[0m\u001b[1;33m,\u001b[0m\u001b[1;36m2\u001b[0m\u001b[1;33m,\u001b[0m\u001b[1;36m3\u001b[0m\u001b[1;33m,\u001b[0m\u001b[1;36m4\u001b[0m\u001b[1;33m]\u001b[0m\u001b[1;33m)\u001b[0m\u001b[1;33m\u001b[0m\u001b[0m\n\u001b[0m",
      "\u001b[1;31mTypeError\u001b[0m: sequence item 0: expected str instance, int found"
     ]
    }
   ],
   "source": [
    "# 注意：这样会出错\n",
    "\"+\".join([1,2,3,4])"
   ]
  },
  {
   "cell_type": "code",
   "execution_count": 91,
   "metadata": {},
   "outputs": [
    {
     "data": {
      "text/plain": [
       "'1+2+3+4'"
      ]
     },
     "execution_count": 91,
     "metadata": {},
     "output_type": "execute_result"
    }
   ],
   "source": [
    "# 注意：记住这是字符串操作，没那么智能\n",
    "\"+\".join([str(x) for x in [1,2,3,4]])"
   ]
  },
  {
   "cell_type": "code",
   "execution_count": 98,
   "metadata": {},
   "outputs": [
    {
     "name": "stdout",
     "output_type": "stream",
     "text": [
      "<!DOCTYPE html>\r\n",
      "<html>\r\n",
      " <head><Title>Python.org</Title></head>\r\n",
      " <body>\r\n",
      "   <h1>python.org</h1>\r\n",
      " </body>\r\n",
      "</html>\n"
     ]
    }
   ],
   "source": [
    "# Jedi: js里有一种类似的做法\n",
    "# Jedi: 简单的模板\n",
    "a = [\n",
    "    \"<!DOCTYPE html>\",\n",
    "    \"<html>\",\n",
    "    \" <head><Title>Python.org</Title></head>\",\n",
    "    \" <body>\"\n",
    "]\n",
    "b = [\n",
    "    \"   <h1>python.org</h1>\", \n",
    "    \" </body>\", \n",
    "    \"</html>\"\n",
    "]\n",
    "print(\"\\r\\n\".join((a + b)))"
   ]
  },
  {
   "cell_type": "markdown",
   "metadata": {},
   "source": [
    "### 3.4.3 lower"
   ]
  },
  {
   "cell_type": "code",
<<<<<<< HEAD
   "execution_count": 99,
=======
   "execution_count": 1,
   "metadata": {},
   "outputs": [
    {
     "data": {
      "text/plain": [
       "True"
      ]
     },
     "execution_count": 1,
     "metadata": {},
     "output_type": "execute_result"
    }
   ],
   "source": [
    "\"Gumpy\".lower() in [\"gumpy\", \"xumpy\"]"
   ]
  },
  {
   "cell_type": "markdown",
   "metadata": {},
   "source": [
    "### 3.4.4 replace"
   ]
  },
  {
   "cell_type": "code",
   "execution_count": 2,
   "metadata": {},
   "outputs": [
    {
     "data": {
      "text/plain": [
       "'它是太空虎 我是希曼 它是太空虎'"
      ]
     },
     "execution_count": 2,
     "metadata": {},
     "output_type": "execute_result"
    }
   ],
   "source": [
    "\"$$$ 我是希曼 $$$\".replace(\"$$$\", \"它是太空虎\")"
   ]
  },
  {
   "cell_type": "code",
   "execution_count": null,
>>>>>>> c420646f3dc055a136d576443c6ce19727566c0a
   "metadata": {},
   "outputs": [
    {
     "data": {
      "text/plain": [
       "True"
      ]
     },
     "execution_count": 99,
     "metadata": {},
     "output_type": "execute_result"
    }
   ],
   "source": [
    "\"Top Gun\".lower() in [\"sonic\", \"top gun\", \"忍者龙剑传I\"]"
   ]
  },
  {
   "cell_type": "markdown",
   "metadata": {},
   "source": [
    "### 3.4.4 replace"
   ]
  },
  {
   "cell_type": "code",
   "execution_count": 1,
   "metadata": {},
   "outputs": [
    {
     "data": {
      "text/plain": [
       "'All of us want to study machine learning at home'"
      ]
     },
     "execution_count": 1,
     "metadata": {},
     "output_type": "execute_result"
    }
   ],
   "source": [
    "# 单个替代\n",
    "\"Jedi want to study machine learning at home\".replace(\"Jedi\", \"All of us\")"
   ]
  },
  {
   "cell_type": "code",
   "execution_count": 2,
   "metadata": {},
   "outputs": [
    {
     "data": {
      "text/plain": [
       "'BuzzBuzz Buzz Buzz'"
      ]
     },
     "execution_count": 2,
     "metadata": {},
     "output_type": "execute_result"
    }
   ],
   "source": [
    "# 一次性替代所有\n",
    "\"FizzBuzz Fizz Buzz\".replace(\"Fizz\", \"Buzz\")"
   ]
  },
  {
   "cell_type": "markdown",
   "metadata": {},
   "source": [
    "### 3.4.5 split"
   ]
  },
  {
   "cell_type": "code",
   "execution_count": 4,
   "metadata": {},
   "outputs": [
    {
     "name": "stdout",
     "output_type": "stream",
     "text": [
      "['1', '2', '3', '4', '5', '6']\n",
      "['everything', 'will', 'be', 'change']\n"
     ]
    }
   ],
   "source": [
    "print(\"1+2+3+4+5+6\".split(\"+\"))\n",
    "print(\"everything will be change\".split(\" \"))"
   ]
  },
  {
   "cell_type": "markdown",
   "metadata": {},
   "source": [
    "### 3.4.6 strip"
   ]
  },
  {
   "cell_type": "code",
   "execution_count": 7,
   "metadata": {},
   "outputs": [
    {
     "name": "stdout",
     "output_type": "stream",
     "text": [
      "你丫想怎样，给我这么多空格\n",
      "$$$小样！还给来这套。$$$\n"
     ]
    }
   ],
   "source": [
    "print(\"  你丫想怎样，给我这么多空格   \".strip())\n",
    "print(\"$$$小样！还给来这套。$$$\".strip(\"*\"))"
   ]
  },
  {
   "cell_type": "markdown",
   "metadata": {},
   "source": [
    "### 3.4.7 translate"
   ]
  },
  {
   "cell_type": "code",
   "execution_count": 12,
   "metadata": {},
   "outputs": [
    {
     "ename": "ImportError",
     "evalue": "cannot import name 'maketrans'",
     "output_type": "error",
     "traceback": [
      "\u001b[1;31m---------------------------------------------------------------------------\u001b[0m",
      "\u001b[1;31mImportError\u001b[0m                               Traceback (most recent call last)",
      "\u001b[1;32m<ipython-input-12-f4ac050c7552>\u001b[0m in \u001b[0;36m<module>\u001b[1;34m()\u001b[0m\n\u001b[0;32m      1\u001b[0m \u001b[1;31m# 这玩意在Py3中似乎没有\u001b[0m\u001b[1;33m\u001b[0m\u001b[1;33m\u001b[0m\u001b[0m\n\u001b[1;32m----> 2\u001b[1;33m \u001b[1;32mfrom\u001b[0m \u001b[0mstring\u001b[0m \u001b[1;32mimport\u001b[0m \u001b[0mmaketrans\u001b[0m\u001b[1;33m\u001b[0m\u001b[0m\n\u001b[0m",
      "\u001b[1;31mImportError\u001b[0m: cannot import name 'maketrans'"
     ]
    }
   ],
   "source": [
    "# 这玩意在Py3中似乎没有\n",
    "from string import maketrans"
   ]
  }
 ],
 "metadata": {
  "kernelspec": {
   "display_name": "Python 3",
   "language": "python",
   "name": "python3"
  },
  "language_info": {
   "codemirror_mode": {
    "name": "ipython",
    "version": 3
   },
   "file_extension": ".py",
   "mimetype": "text/x-python",
   "name": "python",
   "nbconvert_exporter": "python",
   "pygments_lexer": "ipython3",
   "version": "3.6.4"
  }
 },
 "nbformat": 4,
 "nbformat_minor": 2
}
