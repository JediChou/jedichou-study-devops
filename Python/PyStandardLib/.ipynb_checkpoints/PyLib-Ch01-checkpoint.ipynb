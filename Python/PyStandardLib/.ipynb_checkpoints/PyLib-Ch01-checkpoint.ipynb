{
 "cells": [
  {
   "cell_type": "markdown",
   "metadata": {},
   "source": [
    "# 第1章 TEXT\n",
    "\n",
    "## 1.1 string - TEXT constant and template\n",
    "\n",
    "* Purpose: Contains constants and class for working with text\n",
    "* Python Version 1.4 and later\n",
    "\n",
    "### 1.1.1 Functions\n",
    "\n",
    "* capwords(), maketrans(), capwords"
   ]
  },
  {
   "cell_type": "code",
   "execution_count": 4,
   "metadata": {},
   "outputs": [
    {
     "name": "stdout",
     "output_type": "stream",
     "text": [
      "The quick brown fox jumped over the lazy dog.\n"
     ]
    }
   ],
   "source": [
    "# capwords sample\n",
    "import string\n",
    "s = \"The quick brown fox jumped over the lazy dog.\"\n",
    "print(s)\n",
    "# print(s.capwords())"
   ]
  },
  {
   "cell_type": "code",
   "execution_count": null,
   "metadata": {},
   "outputs": [],
   "source": []
  }
 ],
 "metadata": {
  "kernelspec": {
   "display_name": "Python 3",
   "language": "python",
   "name": "python3"
  },
  "language_info": {
   "codemirror_mode": {
    "name": "ipython",
    "version": 3
   },
   "file_extension": ".py",
   "mimetype": "text/x-python",
   "name": "python",
   "nbconvert_exporter": "python",
   "pygments_lexer": "ipython3",
   "version": "3.6.4"
  }
 },
 "nbformat": 4,
 "nbformat_minor": 2
}
