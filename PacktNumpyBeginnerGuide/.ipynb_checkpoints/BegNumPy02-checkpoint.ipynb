{
 "cells": [
  {
   "cell_type": "markdown",
   "metadata": {},
   "source": [
    "# NumPy Beginner Guide 02 - Numpy的解决方案"
   ]
  },
  {
   "cell_type": "markdown",
   "metadata": {},
   "source": [
    "## 向量"
   ]
  },
  {
   "cell_type": "code",
   "execution_count": 6,
   "metadata": {},
   "outputs": [
    {
     "data": {
      "text/plain": [
       "dtype('int32')"
      ]
     },
     "execution_count": 6,
     "metadata": {},
     "output_type": "execute_result"
    }
   ],
   "source": [
    "## 用arange创建一个向量\n",
    "import numpy as np\n",
    "a = np.arange(5)\n",
    "a.dtype\n",
    "\n",
    "# Notice:\n",
    "# 在Packt NumPy Beginner Guide中作者的返回值是dtype('int64')\n",
    "# 但在我的环境上是dtype('int32')。这一点不足为奇，因为各个\n",
    "# 电脑的配置都是不同的。"
   ]
  },
  {
   "cell_type": "code",
   "execution_count": 7,
   "metadata": {},
   "outputs": [
    {
     "data": {
      "text/plain": [
       "(5,)"
      ]
     },
     "execution_count": 7,
     "metadata": {},
     "output_type": "execute_result"
    }
   ],
   "source": [
    "## 获取维度\n",
    "import numpy as np\n",
    "a = np.array([1,2,3,4,5])\n",
    "a.shape"
   ]
  },
  {
   "cell_type": "markdown",
   "metadata": {},
   "source": [
    "## 创建多维向量"
   ]
  },
  {
   "cell_type": "code",
   "execution_count": 14,
   "metadata": {},
   "outputs": [
    {
     "data": {
      "text/plain": [
       "(2, 2)"
      ]
     },
     "execution_count": 14,
     "metadata": {},
     "output_type": "execute_result"
    }
   ],
   "source": [
    "## 2*2的向量\n",
    "from numpy import array\n",
    "a = array([array([1,2]), array([3,4])])\n",
    "a.shape"
   ]
  },
  {
   "cell_type": "code",
   "execution_count": 18,
   "metadata": {},
   "outputs": [
    {
     "data": {
      "text/plain": [
       "array([[1, 2, 3],\n",
       "       [4, 5, 6],\n",
       "       [7, 8, 9]])"
      ]
     },
     "execution_count": 18,
     "metadata": {},
     "output_type": "execute_result"
    }
   ],
   "source": [
    "## 3*3的向量\n",
    "## Have a go hero – create a three-by-three array\n",
    "from numpy import array\n",
    "matrix = array([array([1,2,3]),array([4,5,6]),array([7,8,9])])\n",
    "matrix"
   ]
  },
  {
   "cell_type": "markdown",
   "metadata": {},
   "source": [
    "## 选择向量里的元素"
   ]
  },
  {
   "cell_type": "code",
   "execution_count": 19,
   "metadata": {},
   "outputs": [
    {
     "name": "stdout",
     "output_type": "stream",
     "text": [
      "林海洪 周颢 张涛 林雄\n",
      "(2, 2)\n"
     ]
    }
   ],
   "source": [
    "## Jedi: 书里面用的是整数，我这里用字符串\n",
    "from numpy import array\n",
    "m = array([array(['林海洪', '周颢']), array(['张涛', '林雄'])])\n",
    "print(m[0,0], m[0,1], m[1,0], m[1,1])\n",
    "print(m.shape)"
   ]
  },
  {
   "cell_type": "markdown",
   "metadata": {},
   "source": [
    "## 向量元素的类型"
   ]
  },
  {
   "cell_type": "code",
   "execution_count": 22,
   "metadata": {},
   "outputs": [
    {
     "data": {
      "text/plain": [
       "finfo(resolution=0.001, min=-6.55040e+04, max=6.55040e+04, dtype=float16)"
      ]
     },
     "execution_count": 22,
     "metadata": {},
     "output_type": "execute_result"
    }
   ],
   "source": [
    "# 用这个方法可以获得某个类型的取值范围\n",
    "import numpy as np\n",
    "np.finfo(np.float16)"
   ]
  },
  {
   "cell_type": "code",
   "execution_count": 42,
   "metadata": {},
   "outputs": [
    {
     "name": "stdout",
     "output_type": "stream",
     "text": [
      "42.0 -> <class 'numpy.float64'>\n",
      "42 -> <class 'numpy.int8'>\n",
      "True -> <class 'bool'>\n",
      "False -> <class 'bool'>\n",
      "1.0 -> <class 'float'>\n",
      "0.0 -> <class 'float'>\n"
     ]
    }
   ],
   "source": [
    "# 其他的numpy类型的举例\n",
    "import numpy as np\n",
    "f64 = np.float64(42); print(f64, '->', type(f64))\n",
    "i8 = np.int8(42.0);   print(i8,  '->', type(i8))\n",
    "bt = np.bool(42);     print(bt,  '->', type(bt))\n",
    "bf = np.bool(0);      print(bf,  '->', type(bf))\n",
    "ft = np.float(True);  print(ft,  '->', type(ft))\n",
    "ff = np.float(False); print(ff,  '->', type(ff))"
   ]
  },
  {
   "cell_type": "code",
   "execution_count": 43,
   "metadata": {},
   "outputs": [
    {
     "name": "stdout",
     "output_type": "stream",
     "text": [
      "[0. 1. 2. 3. 4. 5. 6.] -> dtype:  float64\n",
      "<class 'numpy.ndarray'>\n"
     ]
    }
   ],
   "source": [
    "# 创建向量时指定类型\n",
    "import numpy as np\n",
    "m = np.arange(7, dtype=np.float64)\n",
    "print(m, '-> dtype: ', m.dtype)\n",
    "print(type(m))"
   ]
  },
  {
   "cell_type": "markdown",
   "metadata": {},
   "source": [
    "### 数据类型对象"
   ]
  },
  {
   "cell_type": "code",
   "execution_count": 45,
   "metadata": {},
   "outputs": [
    {
     "data": {
      "text/plain": [
       "1"
      ]
     },
     "execution_count": 45,
     "metadata": {},
     "output_type": "execute_result"
    }
   ],
   "source": [
    "# 查看数据类型的itemsize\n",
    "import numpy as np\n",
    "m = np.arange(7, dtype=np.int8)\n",
    "m.dtype.itemsize"
   ]
  },
  {
   "cell_type": "code",
   "execution_count": 65,
   "metadata": {},
   "outputs": [
    {
     "name": "stdout",
     "output_type": "stream",
     "text": [
      "[['张涛' '刘进勇']\n",
      " ['昕哥' '大波']]\n",
      "(2, 2)\n",
      "<class 'numpy.ndarray'>\n",
      "<U3 12\n",
      "3\n",
      "2\n"
     ]
    }
   ],
   "source": [
    "# 如果用python的内置类型\n",
    "import numpy as np\n",
    "m = np.array([array(['张涛', '刘进勇']),array(['昕哥', '大波'])])\n",
    "print(m)\n",
    "print(m.shape)\n",
    "print(type(m))\n",
    "print(m.dtype, m.dtype.itemsize)\n",
    "print(len(u'刘进勇'))\n",
    "print(len(m))\n",
    "# 看到啦！直接给我们撸成了Unicode"
   ]
  },
  {
   "cell_type": "markdown",
   "metadata": {},
   "source": [
    "### 类型编码"
   ]
  },
  {
   "cell_type": "code",
   "execution_count": 95,
   "metadata": {},
   "outputs": [
    {
     "name": "stdout",
     "output_type": "stream",
     "text": [
      "-> [0 1 2 3 4 5 6] , n.dtype int32\n",
      "-> [0. 1. 2. 3. 4. 5. 6.] , n.dtype float32\n",
      "-> [0. 1. 2. 3. 4. 5. 6.] , n.dtype float64\n",
      "-> [0.+0.j 1.+0.j 2.+0.j 3.+0.j 4.+0.j 5.+0.j 6.+0.j] , n.dtype complex128\n"
     ]
    }
   ],
   "source": [
    "# 各种缩写的举例\n",
    "# Jedi, 不过我更喜欢完整的写法->更有逻辑些嘛~\n",
    "import numpy as np\n",
    "def print_dtype(n):\n",
    "    print('->', n, ', n.dtype', n.dtype)\n",
    "array_int  = np.arange(7, dtype='i');    print_dtype(array_int)\n",
    "array_sing = np.arange(7, dtype='f');    print_dtype(array_sing)\n",
    "array_dobl = np.arange(7, dtype='d');    print_dtype(array_dobl)\n",
    "array_comp = np.arange(7, dtype='D');    print_dtype(array_comp)\n",
    "\n",
    "# Jedi: 注意在Python3的numpy中不能这样使用\n",
    "# array_uint = np.arange(7, dtype='u');  print_dtype(array_uint)\n",
    "# array_bool = np.arange(7, dtype='b');  print_dtype(array_bool)\n",
    "# array_str  = np.arange(7, dtype='S');  print_dtype(array_str)\n",
    "# array_uni  = np.arange(7, dtype='U');  print_dtype(array_uni)\n",
    "# array_void = np.arange(7, dtype='V');  print_dtype(array_void)"
   ]
  },
  {
   "cell_type": "markdown",
   "metadata": {},
   "source": [
    "### 类型的默认值"
   ]
  },
  {
   "cell_type": "code",
   "execution_count": 96,
   "metadata": {},
   "outputs": [
    {
     "data": {
      "text/plain": [
       "dtype('float64')"
      ]
     },
     "execution_count": 96,
     "metadata": {},
     "output_type": "execute_result"
    }
   ],
   "source": [
    "import numpy as np\n",
    "np.dtype(float)"
   ]
  },
  {
   "cell_type": "code",
   "execution_count": 97,
   "metadata": {},
   "outputs": [
    {
     "data": {
      "text/plain": [
       "dtype('float32')"
      ]
     },
     "execution_count": 97,
     "metadata": {},
     "output_type": "execute_result"
    }
   ],
   "source": [
    "import numpy as np\n",
    "np.dtype('f')"
   ]
  },
  {
   "cell_type": "code",
   "execution_count": 98,
   "metadata": {},
   "outputs": [
    {
     "data": {
      "text/plain": [
       "dtype('float64')"
      ]
     },
     "execution_count": 98,
     "metadata": {},
     "output_type": "execute_result"
    }
   ],
   "source": [
    "import numpy as np\n",
    "np.dtype('d')"
   ]
  },
  {
   "cell_type": "code",
   "execution_count": 99,
   "metadata": {},
   "outputs": [
    {
     "data": {
      "text/plain": [
       "dtype('float64')"
      ]
     },
     "execution_count": 99,
     "metadata": {},
     "output_type": "execute_result"
    }
   ],
   "source": [
    "import numpy as np\n",
    "np.dtype('f8')"
   ]
  },
  {
   "cell_type": "code",
   "execution_count": 100,
   "metadata": {},
   "outputs": [
    {
     "data": {
      "text/plain": [
       "dict_keys(['?', 0, 'byte', 'b', 1, 'ubyte', 'B', 2, 'short', 'h', 3, 'ushort', 'H', 4, 'i', 5, 'uint', 'I', 6, 'intp', 'p', 'uintp', 'P', 'long', 'l', 7, 'L', 8, 'longlong', 'q', 9, 'ulonglong', 'Q', 10, 'half', 'e', 23, 'f', 11, 'double', 'd', 12, 'longdouble', 'g', 13, 'cfloat', 'F', 14, 'cdouble', 'D', 15, 'clongdouble', 'G', 16, 'O', 17, 'S', 18, 'unicode', 'U', 19, 'void', 'V', 20, 'M', 21, 'm', 22, 'bool8', 'Bool', 'b1', 'float16', 'Float16', 'f2', 'float32', 'Float32', 'f4', 'float64', 'Float64', 'f8', 'complex64', 'Complex32', 'c8', 'complex128', 'Complex64', 'c16', 'object0', 'Object0', 'bytes0', 'Bytes0', 'str0', 'Str0', 'void0', 'Void0', 'datetime64', 'Datetime64', 'M8', 'timedelta64', 'Timedelta64', 'm8', 'int32', 'uint32', 'Int32', 'UInt32', 'i4', 'u4', 'int64', 'uint64', 'Int64', 'UInt64', 'i8', 'u8', 'int16', 'uint16', 'Int16', 'UInt16', 'i2', 'u2', 'int8', 'uint8', 'Int8', 'UInt8', 'i1', 'u1', 'complex_', 'int0', 'uint0', 'single', 'csingle', 'singlecomplex', 'float_', 'intc', 'uintc', 'int_', 'longfloat', 'clongfloat', 'longcomplex', 'bool_', 'unicode_', 'object_', 'bytes_', 'str_', 'string_', 'int', 'float', 'complex', 'bool', 'object', 'str', 'bytes', 'a'])"
      ]
     },
     "execution_count": 100,
     "metadata": {},
     "output_type": "execute_result"
    }
   ],
   "source": [
    "# 类型枚举\n",
    "# Jedi: God! 这也太多了吧!\n",
    "import numpy as np\n",
    "np.sctypeDict.keys()"
   ]
  },
  {
   "cell_type": "markdown",
   "metadata": {},
   "source": [
    "### dtype属性"
   ]
  },
  {
   "cell_type": "code",
   "execution_count": 16,
   "metadata": {},
   "outputs": [
    {
     "name": "stdout",
     "output_type": "stream",
     "text": [
      "<class 'numpy.float64'>\n",
      "d\n"
     ]
    }
   ],
   "source": [
    "# 获取属性\n",
    "from numpy import *\n",
    "d = dtype('f8')\n",
    "print(d.type)\n",
    "print(d.char)"
   ]
  },
  {
   "cell_type": "markdown",
   "metadata": {},
   "source": [
    "## 创建类型"
   ]
  },
  {
   "cell_type": "code",
   "execution_count": 28,
   "metadata": {},
   "outputs": [
    {
     "name": "stdout",
     "output_type": "stream",
     "text": [
      "<U40\n",
      "int64\n",
      "float64\n"
     ]
    }
   ],
   "source": [
    "# Jedi: 类型有点像是class，或struct\n",
    "# Notice 1: 注意在Windows上用Python3有些类似似乎支持不了\n",
    "# Notice 2: 使用了不太规则的缩进，主要是为了可以看清楚\n",
    "import numpy as np\n",
    "t = np.dtype([\n",
    "    ('name', str, 40),\n",
    "    ('numtimes', 'i8'),\n",
    "    ('price', 'f8')\n",
    "])\n",
    "print(t['name'])\n",
    "print(t['numtimes'])\n",
    "print(t['price'])"
   ]
  },
  {
   "cell_type": "code",
   "execution_count": 37,
   "metadata": {},
   "outputs": [
    {
     "name": "stdout",
     "output_type": "stream",
     "text": [
      "jerry的年龄是28，工资是$28000.000000\n",
      "tom的年龄是29，工资是$13500.000000\n"
     ]
    }
   ],
   "source": [
    "# Jedi: 既然有了类型，那么我们具体的“实例”\n",
    "import numpy as np\n",
    "emptype = np.dtype([\n",
    "    ('name', str, 40),\n",
    "    ('age', 'i'),\n",
    "    ('salary', 'f')\n",
    "])\n",
    "\n",
    "# 把tom和jerry的年龄和工资晒出来\n",
    "tom_jerry = array([\n",
    "    ('jerry', 28, 28000),\n",
    "    ('tom', 29, 13500)\n",
    "], dtype=emptype)\n",
    "\n",
    "# 做下简单的输出\n",
    "for actor in tom_jerry:\n",
    "    print(\"%s的年龄是%i，工资是$%f\" % (actor['name'], actor['age'], actor['salary']))"
   ]
  },
  {
   "cell_type": "markdown",
   "metadata": {},
   "source": [
    "### 一纬向量的切片和索引"
   ]
  },
  {
   "cell_type": "code",
   "execution_count": 41,
   "metadata": {},
   "outputs": [
    {
     "name": "stdout",
     "output_type": "stream",
     "text": [
      "[3, 4, 5, 6]\n",
      "[0, 2, 4, 6]\n",
      "[8, 7, 6, 5, 4, 3, 2, 1, 0]\n"
     ]
    }
   ],
   "source": [
    "# 切片\n",
    "a = list(range(9))\n",
    "print(a[3:7])\n",
    "print(a[:7:2])\n",
    "print(a[::-1])"
   ]
  },
  {
   "cell_type": "markdown",
   "metadata": {},
   "source": [
    "### 多维向量的切片和索引"
   ]
  },
  {
   "cell_type": "code",
   "execution_count": 47,
   "metadata": {},
   "outputs": [
    {
     "name": "stdout",
     "output_type": "stream",
     "text": [
      "(2, 3, 4)\n",
      "[[[ 0  1  2  3]\n",
      "  [ 4  5  6  7]\n",
      "  [ 8  9 10 11]]\n",
      "\n",
      " [[12 13 14 15]\n",
      "  [16 17 18 19]\n",
      "  [20 21 22 23]]]\n"
     ]
    }
   ],
   "source": [
    "# 第1步：创建多维向量\n",
    "import numpy as np\n",
    "b = np.arange(24).reshape(2,3,4)\n",
    "print(b.shape)\n",
    "print(b)"
   ]
  },
  {
   "cell_type": "code",
   "execution_count": 51,
   "metadata": {},
   "outputs": [
    {
     "name": "stdout",
     "output_type": "stream",
     "text": [
      "0\n",
      "23\n"
     ]
    }
   ],
   "source": [
    "# 第2步：使用位置的绝对位置来索引元素\n",
    "import numpy as np\n",
    "b = np.arange(24).reshape(2,3,4)\n",
    "print(b[0,0,0])\n",
    "print(b[1,2,3])"
   ]
  },
  {
   "cell_type": "code",
   "execution_count": 55,
   "metadata": {},
   "outputs": [
    {
     "name": "stdout",
     "output_type": "stream",
     "text": [
      "[ 0 12]\n",
      "[[ 0  1  2  3]\n",
      " [ 4  5  6  7]\n",
      " [ 8  9 10 11]]\n",
      "[[ 0  1  2  3]\n",
      " [ 4  5  6  7]\n",
      " [ 8  9 10 11]]\n",
      "[[ 0  1  2  3]\n",
      " [ 4  5  6  7]\n",
      " [ 8  9 10 11]]\n"
     ]
    }
   ],
   "source": [
    "# 第3步骤: 向量的切片\n",
    "import numpy as np\n",
    "b = np.arange(24).reshape(2,3,4)\n",
    "print(b[:,0,0])  # 取每个一级元素的[0,0]位\n",
    "print(b[0])      # 取第一个元素\n",
    "print(b[0,::])   # 取第一元素的另外一种取法\n",
    "print(b[0, ...]) # 这个方法更聪明"
   ]
  },
  {
   "cell_type": "code",
   "execution_count": 56,
   "metadata": {},
   "outputs": [
    {
     "name": "stdout",
     "output_type": "stream",
     "text": [
      "[4 6]\n"
     ]
    }
   ],
   "source": [
    "# 第4步: 行切片\n",
    "import numpy as np\n",
    "b = np.arange(24).reshape(2,3,4)\n",
    "print(b[0,1,::2])"
   ]
  },
  {
   "cell_type": "code",
   "execution_count": 63,
   "metadata": {},
   "outputs": [
    {
     "name": "stdout",
     "output_type": "stream",
     "text": [
      "[[[ 0  1  2  3]\n",
      "  [ 4  5  6  7]\n",
      "  [ 8  9 10 11]]\n",
      "\n",
      " [[12 13 14 15]\n",
      "  [16 17 18 19]\n",
      "  [20 21 22 23]]]\n",
      "\n",
      "[[ 1  5  9]\n",
      " [13 17 21]]\n",
      "\n",
      "[[ 4  5  6  7]\n",
      " [16 17 18 19]]\n",
      "\n",
      "[1 5 9]\n"
     ]
    }
   ],
   "source": [
    "# 第5步：使用省略号的切片\n",
    "import numpy as np\n",
    "b = np.arange(24).reshape(2,3,4)\n",
    "print(b); print()\n",
    "print(b[..., 1]); print() # 取所有表格的第二列\n",
    "print(b[:,1]); print()    # 取所有表格的第二行\n",
    "print(b[0,:,1])           # 取第一個表格的第二列"
   ]
  },
  {
   "cell_type": "code",
   "execution_count": 69,
   "metadata": {},
   "outputs": [
    {
     "name": "stdout",
     "output_type": "stream",
     "text": [
      "[ 3  7 11]\n",
      "\n",
      "[11  7  3]\n",
      "\n",
      "[ 3 11]\n",
      "\n",
      "[[[12 13 14 15]\n",
      "  [16 17 18 19]\n",
      "  [20 21 22 23]]\n",
      "\n",
      " [[ 0  1  2  3]\n",
      "  [ 4  5  6  7]\n",
      "  [ 8  9 10 11]]]\n"
     ]
    }
   ],
   "source": [
    "# 第6步: 使用负号的进行切片操作\n",
    "import numpy as np\n",
    "b = arange(24).reshape(2,3,4)\n",
    "print(b[0,:,-1]);    print()  # 取第一个表格的最后一列\n",
    "print(b[0,::-1,-1]); print()  # 将第一个表格行次序颠倒过来，然后取其最后一列\n",
    "print(b[0,::2, -1]); print()  # 取第一个表格前两行的最后一列\n",
    "print(b[::-1])                # 将表格次序颠倒过来, 但元素的位置不变"
   ]
  },
  {
   "cell_type": "markdown",
   "metadata": {},
   "source": [
    "## 维度操作"
   ]
  },
  {
   "cell_type": "code",
   "execution_count": 73,
   "metadata": {},
   "outputs": [
    {
     "name": "stdout",
     "output_type": "stream",
     "text": [
      "[[[ 0  1  2  3]\n",
      "  [ 4  5  6  7]\n",
      "  [ 8  9 10 11]]\n",
      "\n",
      " [[12 13 14 15]\n",
      "  [16 17 18 19]\n",
      "  [20 21 22 23]]]\n",
      "\n",
      "[ 0  1  2  3  4  5  6  7  8  9 10 11 12 13 14 15 16 17 18 19 20 21 22 23]\n",
      "\n"
     ]
    }
   ],
   "source": [
    "# 1. ravel函数\n",
    "import numpy as np\n",
    "matrix = np.arange(24).reshape(2,3,4)\n",
    "print(matrix); print()\n",
    "print(matrix.ravel()); print()"
   ]
  },
  {
   "cell_type": "code",
   "execution_count": 76,
   "metadata": {},
   "outputs": [
    {
     "name": "stdout",
     "output_type": "stream",
     "text": [
      "[[[ 0  1  2  3]\n",
      "  [ 4  5  6  7]\n",
      "  [ 8  9 10 11]]\n",
      "\n",
      " [[12 13 14 15]\n",
      "  [16 17 18 19]\n",
      "  [20 21 22 23]]]\n",
      "\n",
      "[ 0  1  2  3  4  5  6  7  8  9 10 11 12 13 14 15 16 17 18 19 20 21 22 23]\n"
     ]
    }
   ],
   "source": [
    "# 2. faltten函数\n",
    "import numpy as np\n",
    "matrix = np.arange(24).reshape(2,3,4)\n",
    "print(matrix); print()\n",
    "print(matrix.flatten())"
   ]
  },
  {
   "cell_type": "code",
   "execution_count": 78,
   "metadata": {},
   "outputs": [
    {
     "name": "stdout",
     "output_type": "stream",
     "text": [
      "[[ 0  1  2  3]\n",
      " [ 4  5  6  7]\n",
      " [ 8  9 10 11]\n",
      " [12 13 14 15]\n",
      " [16 17 18 19]\n",
      " [20 21 22 23]]\n",
      "\n",
      "[[ 0  1  2  3  4  5  6  7]\n",
      " [ 8  9 10 11 12 13 14 15]\n",
      " [16 17 18 19 20 21 22 23]]\n",
      "\n"
     ]
    }
   ],
   "source": [
    "# 3. 通过设置shape属性变更维度\n",
    "import numpy as np\n",
    "m = np.arange(24).reshape(2,3,4)\n",
    "m.shape = (6,4); print(m); print()\n",
    "m.shape = (3,8); print(m); print()"
   ]
  },
  {
   "cell_type": "code",
   "execution_count": 83,
   "metadata": {},
   "outputs": [
    {
     "name": "stdout",
     "output_type": "stream",
     "text": [
      "[[ 0  1  2  3]\n",
      " [ 4  5  6  7]\n",
      " [ 8  9 10 11]\n",
      " [12 13 14 15]\n",
      " [16 17 18 19]\n",
      " [20 21 22 23]]\n",
      "\n",
      "[[ 0  4  8 12 16 20]\n",
      " [ 1  5  9 13 17 21]\n",
      " [ 2  6 10 14 18 22]\n",
      " [ 3  7 11 15 19 23]]\n"
     ]
    }
   ],
   "source": [
    "# 4. transpose()函数\n",
    "import numpy as np\n",
    "m = np.arange(24).reshape(6,4)\n",
    "print(m); print()\n",
    "print(m.transpose())  # 也即->行转列，列转行"
   ]
  },
  {
   "cell_type": "code",
   "execution_count": 85,
   "metadata": {},
   "outputs": [
    {
     "name": "stdout",
     "output_type": "stream",
     "text": [
      "[[ 0  1  2  3  4  5  6  7  8  9 10 11]\n",
      " [12 13 14 15 16 17 18 19 20 21 22 23]]\n"
     ]
    }
   ],
   "source": [
    "# 5. resize()函数\n",
    "# Jedi: 相当于用直接改shape属性\n",
    "import numpy as np\n",
    "m = np.arange(24).reshape(6,4)\n",
    "m.resize((2,12)); print(m)"
   ]
  },
  {
   "cell_type": "markdown",
   "metadata": {},
   "source": [
    "## 行列式操作"
   ]
  },
  {
   "cell_type": "code",
   "execution_count": 90,
   "metadata": {},
   "outputs": [
    {
     "name": "stdout",
     "output_type": "stream",
     "text": [
      "[[0 1 2]\n",
      " [3 4 5]\n",
      " [6 7 8]]\n",
      "\n",
      "[[ 0  2  4]\n",
      " [ 6  8 10]\n",
      " [12 14 16]]\n"
     ]
    }
   ],
   "source": [
    "# 后面的操作基于这两个行列式\n",
    "import numpy as np\n",
    "a, b = np.arange(9).reshape(3,3), 2*a\n",
    "print(a); print(); print(b)"
   ]
  },
  {
   "cell_type": "code",
   "execution_count": 96,
   "metadata": {},
   "outputs": [
    {
     "name": "stdout",
     "output_type": "stream",
     "text": [
      "[[ 0  1  2  0  2  4]\n",
      " [ 3  4  5  6  8 10]\n",
      " [ 6  7  8 12 14 16]]\n"
     ]
    }
   ],
   "source": [
    "# 1. 行列式水平合并\n",
    "import numpy as np\n",
    "a, b = np.arange(9).reshape(3,3), 2*a\n",
    "c = np.hstack((a, b)); print(c)"
   ]
  },
  {
   "cell_type": "code",
   "execution_count": 97,
   "metadata": {},
   "outputs": [
    {
     "name": "stdout",
     "output_type": "stream",
     "text": [
      "[[ 0  1  2]\n",
      " [ 3  4  5]\n",
      " [ 6  7  8]\n",
      " [ 0  2  4]\n",
      " [ 6  8 10]\n",
      " [12 14 16]]\n"
     ]
    }
   ],
   "source": [
    "# 2. 行列式垂直合并-使用vstack\n",
    "import numpy as np\n",
    "a, b = np.arange(9).reshape(3,3), 2*a\n",
    "c = np.vstack((a,b)); print(c)"
   ]
  },
  {
   "cell_type": "code",
   "execution_count": 99,
   "metadata": {},
   "outputs": [
    {
     "name": "stdout",
     "output_type": "stream",
     "text": [
      "[[ 0  1  2]\n",
      " [ 3  4  5]\n",
      " [ 6  7  8]\n",
      " [ 0  2  4]\n",
      " [ 6  8 10]\n",
      " [12 14 16]]\n"
     ]
    }
   ],
   "source": [
    "#2. 行列式垂直合并-使用concatenate()\n",
    "import numpy as np\n",
    "a, b = np.arange(9).reshape(3,3), 2*a\n",
    "c = np.concatenate((a,b), axis=0); print(c)"
   ]
  },
  {
   "cell_type": "code",
   "execution_count": 110,
   "metadata": {},
   "outputs": [
    {
     "name": "stdout",
     "output_type": "stream",
     "text": [
      "[[[ 0  0]\n",
      "  [ 1  2]\n",
      "  [ 2  4]]\n",
      "\n",
      " [[ 3  6]\n",
      "  [ 4  8]\n",
      "  [ 5 10]]\n",
      "\n",
      " [[ 6 12]\n",
      "  [ 7 14]\n",
      "  [ 8 16]]]\n",
      "(3, 3, 2)\n"
     ]
    }
   ],
   "source": [
    "#3. 行列式的深度合并\n",
    "#Jedi: 我用的词应该不准确 （哈哈哈）\n",
    "import numpy as np\n",
    "a, b = np.arange(9).reshape(3,3), 2*a\n",
    "c = np.dstack((a, b)); print(c); print(c.shape)"
   ]
  },
  {
   "cell_type": "code",
   "execution_count": 121,
   "metadata": {},
   "outputs": [
    {
     "name": "stdout",
     "output_type": "stream",
     "text": [
      "[[0 0]\n",
      " [1 2]]\n"
     ]
    }
   ],
   "source": [
    "#4. 行列式的列操作\n",
    "import numpy as np\n",
    "a = np.arange(2)\n",
    "b = 2 * a\n",
    "c = np.column_stack((a,b))\n",
    "print(c)"
   ]
  },
  {
   "cell_type": "code",
   "execution_count": null,
   "metadata": {},
   "outputs": [],
   "source": []
  }
 ],
 "metadata": {
  "kernelspec": {
   "display_name": "Python 3",
   "language": "python",
   "name": "python3"
  },
  "language_info": {
   "codemirror_mode": {
    "name": "ipython",
    "version": 3
   },
   "file_extension": ".py",
   "mimetype": "text/x-python",
   "name": "python",
   "nbconvert_exporter": "python",
   "pygments_lexer": "ipython3",
   "version": "3.6.4"
  }
 },
 "nbformat": 4,
 "nbformat_minor": 2
}
