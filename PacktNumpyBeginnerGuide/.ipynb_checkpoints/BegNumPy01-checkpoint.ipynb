{
 "cells": [
  {
   "cell_type": "markdown",
   "metadata": {},
   "source": [
    "## NumPy-Getting Start"
   ]
  },
  {
   "cell_type": "markdown",
   "metadata": {},
   "source": [
    "### Python的算数运算符"
   ]
  },
  {
   "cell_type": "code",
   "execution_count": 25,
   "metadata": {},
   "outputs": [
    {
     "data": {
      "text/plain": [
       "4"
      ]
     },
     "execution_count": 25,
     "metadata": {},
     "output_type": "execute_result"
    }
   ],
   "source": [
    "2+2"
   ]
  },
  {
   "cell_type": "code",
   "execution_count": 28,
   "metadata": {},
   "outputs": [
    {
     "data": {
      "text/plain": [
       "1.0"
      ]
     },
     "execution_count": 28,
     "metadata": {},
     "output_type": "execute_result"
    }
   ],
   "source": [
    "2 / 2"
   ]
  },
  {
   "cell_type": "code",
   "execution_count": 29,
   "metadata": {},
   "outputs": [
    {
     "data": {
      "text/plain": [
       "1.6666666666666667"
      ]
     },
     "execution_count": 29,
     "metadata": {},
     "output_type": "execute_result"
    }
   ],
   "source": [
    "5 / 3"
   ]
  },
  {
   "cell_type": "code",
   "execution_count": 32,
   "metadata": {},
   "outputs": [
    {
     "data": {
      "text/plain": [
       "16"
      ]
     },
     "execution_count": 32,
     "metadata": {},
     "output_type": "execute_result"
    }
   ],
   "source": [
    "2 ** 4"
   ]
  },
  {
   "cell_type": "markdown",
   "metadata": {},
   "source": [
    "### Python的赋值"
   ]
  },
  {
   "cell_type": "code",
   "execution_count": 34,
   "metadata": {},
   "outputs": [
    {
     "data": {
      "text/plain": [
       "2"
      ]
     },
     "execution_count": 34,
     "metadata": {},
     "output_type": "execute_result"
    }
   ],
   "source": [
    "# 简单赋值-整数\n",
    "var = 2\n",
    "var"
   ]
  },
  {
   "cell_type": "code",
   "execution_count": 35,
   "metadata": {},
   "outputs": [
    {
     "data": {
      "text/plain": [
       "['林海洪', '李大鹏', '周颢']"
      ]
     },
     "execution_count": 35,
     "metadata": {},
     "output_type": "execute_result"
    }
   ],
   "source": [
    "# 简单赋值-列表\n",
    "var = ['林海洪', '李大鹏', '周颢']\n",
    "var"
   ]
  },
  {
   "cell_type": "code",
   "execution_count": 37,
   "metadata": {},
   "outputs": [
    {
     "name": "stdout",
     "output_type": "stream",
     "text": [
      "a=2, b=1\n"
     ]
    }
   ],
   "source": [
    "# 简单赋值并交换\n",
    "a = 1\n",
    "b = 2\n",
    "a, b = b, a\n",
    "print(\"a=%d, b=%d\" % (a, b))"
   ]
  },
  {
   "cell_type": "markdown",
   "metadata": {},
   "source": [
    "## Python的print函数"
   ]
  },
  {
   "cell_type": "code",
   "execution_count": 38,
   "metadata": {},
   "outputs": [
    {
     "name": "stdout",
     "output_type": "stream",
     "text": [
      "Jedi Chou\n"
     ]
    }
   ],
   "source": [
    "# 打印一个简单的字符串\n",
    "print(\"Jedi Chou\")"
   ]
  },
  {
   "cell_type": "code",
   "execution_count": 39,
   "metadata": {},
   "outputs": [
    {
     "name": "stdout",
     "output_type": "stream",
     "text": [
      "Jedi Chou\n",
      "\n",
      "Work at foxconn-cfa\n"
     ]
    }
   ],
   "source": [
    "# 这里打印一个空行\n",
    "print(\"Jedi Chou\")\n",
    "print()\n",
    "print(\"Work at foxconn-cfa\")"
   ]
  },
  {
   "cell_type": "code",
   "execution_count": 40,
   "metadata": {},
   "outputs": [
    {
     "name": "stdout",
     "output_type": "stream",
     "text": [
      "20120820 Becky Jedi\n"
     ]
    }
   ],
   "source": [
    "# 打印一个元组\n",
    "print(20120820, 'Becky', 'Jedi')"
   ]
  },
  {
   "cell_type": "markdown",
   "metadata": {},
   "source": [
    "## Python的条件判断语句"
   ]
  },
  {
   "cell_type": "code",
   "execution_count": 42,
   "metadata": {},
   "outputs": [
    {
     "name": "stdout",
     "output_type": "stream",
     "text": [
      "42 < 0 是假的！\n"
     ]
    }
   ],
   "source": [
    "# 条件语句的简单示例\n",
    "if (42 < 0):\n",
    "    print(\"42 < 0 是真的！\")\n",
    "else:\n",
    "    print(\"42 < 0 是假的！\")"
   ]
  },
  {
   "cell_type": "code",
   "execution_count": 45,
   "metadata": {},
   "outputs": [
    {
     "name": "stdout",
     "output_type": "stream",
     "text": [
      "显然a是负数\n"
     ]
    }
   ],
   "source": [
    "# 当然也可以这样做\n",
    "# Jedi: 注意是elif，而不是else if，也不是elseif\n",
    "a = -42\n",
    "if a < 0:\n",
    "    print(\"显然a是负数\")\n",
    "elif a == 0:\n",
    "    print(\"a是零鸭蛋\")\n",
    "else:\n",
    "    print(\"废话，当然是正数\")"
   ]
  },
  {
   "cell_type": "markdown",
   "metadata": {},
   "source": [
    "## Python的循环"
   ]
  },
  {
   "cell_type": "code",
   "execution_count": 49,
   "metadata": {},
   "outputs": [
    {
     "name": "stdout",
     "output_type": "stream",
     "text": [
      "我喜欢吃鱼香肉丝。\n",
      "我喜欢吃干锅肥肠。\n",
      "我喜欢吃烧鸭。\n",
      "\n",
      "怎么都是我喜欢吃的！\n"
     ]
    }
   ],
   "source": [
    "# 迭代列表元素\n",
    "foods = [\"鱼香肉丝\", \"干锅肥肠\", \"烧鸭\"]\n",
    "for food in foods:\n",
    "    print(\"我喜欢吃%s。\" % food)\n",
    "print(\"\\n怎么都是我喜欢吃的！\")"
   ]
  },
  {
   "cell_type": "code",
   "execution_count": 50,
   "metadata": {},
   "outputs": [
    {
     "name": "stdout",
     "output_type": "stream",
     "text": [
      "1\n",
      "3\n",
      "5\n",
      "7\n"
     ]
    }
   ],
   "source": [
    "# 迭代一个带有步进的列表\n",
    "nums = range(1, 9, 2)\n",
    "for num in nums:\n",
    "    print(num)"
   ]
  },
  {
   "cell_type": "code",
   "execution_count": 54,
   "metadata": {},
   "outputs": [
    {
     "name": "stdout",
     "output_type": "stream",
     "text": [
      "0\n",
      "1\n",
      "2\n",
      "3\n",
      "Three\n"
     ]
    }
   ],
   "source": [
    "# 在循环中满足条件就中断\n",
    "nums = range(20)\n",
    "for num in nums:\n",
    "    print(num)\n",
    "    if num == 3:\n",
    "        print(\"Three\")\n",
    "        break\n"
   ]
  },
  {
   "cell_type": "code",
   "execution_count": 1,
   "metadata": {},
   "outputs": [
    {
     "name": "stdout",
     "output_type": "stream",
     "text": [
      "0\n",
      "1\n",
      "2\n",
      "Three!\n",
      "4\n"
     ]
    }
   ],
   "source": [
    "# 在循环中不中断且继续\n",
    "for num in range(5):\n",
    "    if num == 3:\n",
    "        print(\"Three!\")\n",
    "        continue\n",
    "    print(num)"
   ]
  },
  {
   "cell_type": "code",
   "execution_count": 56,
   "metadata": {},
   "outputs": [
    {
     "name": "stdout",
     "output_type": "stream",
     "text": [
      "0\n",
      "1\n",
      "2\n",
      "3\n",
      "4\n",
      "4 else语句执行\n"
     ]
    }
   ],
   "source": [
    "# for + else\n",
    "# Jedi: 这个非常不建议使用，语法上有些晦涩\n",
    "for num in range(5):\n",
    "    print(num)\n",
    "else:\n",
    "    print(num, \"else语句执行\")"
   ]
  },
  {
   "cell_type": "markdown",
   "metadata": {},
   "source": [
    "## Python函数定义"
   ]
  },
  {
   "cell_type": "code",
   "execution_count": 59,
   "metadata": {},
   "outputs": [
    {
     "name": "stdout",
     "output_type": "stream",
     "text": [
      "Jedi，你丫还真敢来！？\n"
     ]
    }
   ],
   "source": [
    "# 函数的简单定义\n",
    "def print_hello(name):\n",
    "    print(\"%s，你丫还真敢来！？\" % name)\n",
    "print_hello(\"Jedi\")"
   ]
  },
  {
   "cell_type": "code",
   "execution_count": 60,
   "metadata": {},
   "outputs": [
    {
     "name": "stdout",
     "output_type": "stream",
     "text": [
      "揍你丫的，你丫还真敢来！？\n",
      "小斌，你丫还真敢来！？\n"
     ]
    }
   ],
   "source": [
    "# 有默认值的函数\n",
    "def print_hello(name = \"揍你丫的\"):\n",
    "    print(\"%s，你丫还真敢来！？\" % name)\n",
    "print_hello()\n",
    "print_hello('小斌')"
   ]
  },
  {
   "cell_type": "code",
   "execution_count": 61,
   "metadata": {},
   "outputs": [
    {
     "name": "stdout",
     "output_type": "stream",
     "text": [
      "1332\n",
      "JediJedi\n"
     ]
    }
   ],
   "source": [
    "# 有返回值的函数\n",
    "def double(num):\n",
    "    return 2 * num\n",
    "print(double(666))\n",
    "print(double('Jedi'))"
   ]
  },
  {
   "cell_type": "markdown",
   "metadata": {},
   "source": [
    "## Python的模块"
   ]
  },
  {
   "cell_type": "code",
   "execution_count": 62,
   "metadata": {},
   "outputs": [
    {
     "data": {
      "text/plain": [
       "['__doc__',\n",
       " '__loader__',\n",
       " '__name__',\n",
       " '__package__',\n",
       " '__spec__',\n",
       " 'acos',\n",
       " 'acosh',\n",
       " 'asin',\n",
       " 'asinh',\n",
       " 'atan',\n",
       " 'atan2',\n",
       " 'atanh',\n",
       " 'ceil',\n",
       " 'copysign',\n",
       " 'cos',\n",
       " 'cosh',\n",
       " 'degrees',\n",
       " 'e',\n",
       " 'erf',\n",
       " 'erfc',\n",
       " 'exp',\n",
       " 'expm1',\n",
       " 'fabs',\n",
       " 'factorial',\n",
       " 'floor',\n",
       " 'fmod',\n",
       " 'frexp',\n",
       " 'fsum',\n",
       " 'gamma',\n",
       " 'gcd',\n",
       " 'hypot',\n",
       " 'inf',\n",
       " 'isclose',\n",
       " 'isfinite',\n",
       " 'isinf',\n",
       " 'isnan',\n",
       " 'ldexp',\n",
       " 'lgamma',\n",
       " 'log',\n",
       " 'log10',\n",
       " 'log1p',\n",
       " 'log2',\n",
       " 'modf',\n",
       " 'nan',\n",
       " 'pi',\n",
       " 'pow',\n",
       " 'radians',\n",
       " 'sin',\n",
       " 'sinh',\n",
       " 'sqrt',\n",
       " 'tan',\n",
       " 'tanh',\n",
       " 'tau',\n",
       " 'trunc']"
      ]
     },
     "execution_count": 62,
     "metadata": {},
     "output_type": "execute_result"
    }
   ],
   "source": [
    "# 查看math模块\n",
    "import math\n",
    "dir(math)"
   ]
  },
  {
   "cell_type": "code",
   "execution_count": 63,
   "metadata": {},
   "outputs": [
    {
     "data": {
      "text/plain": [
       "8.0"
      ]
     },
     "execution_count": 63,
     "metadata": {},
     "output_type": "execute_result"
    }
   ],
   "source": [
    "# 不加载直接调用模块里的函数\n",
    "math.pow(2, 3)"
   ]
  },
  {
   "cell_type": "code",
   "execution_count": 65,
   "metadata": {},
   "outputs": [
    {
     "data": {
      "text/plain": [
       "8"
      ]
     },
     "execution_count": 65,
     "metadata": {},
     "output_type": "execute_result"
    }
   ],
   "source": [
    "# 加载模块然后使用\n",
    "import math\n",
    "pow(2, 3)"
   ]
  },
  {
   "cell_type": "code",
   "execution_count": 66,
   "metadata": {},
   "outputs": [
    {
     "data": {
      "text/plain": [
       "8.0"
      ]
     },
     "execution_count": 66,
     "metadata": {},
     "output_type": "execute_result"
    }
   ],
   "source": [
    "# 可以特定加载某个模块里的函数\n",
    "from math import pow\n",
    "pow(2, 3)"
   ]
  },
  {
   "cell_type": "code",
   "execution_count": 68,
   "metadata": {},
   "outputs": [],
   "source": [
    "# 这是加载numpy和matplotlib的方式\n",
    "# Jedi: 后面基本都用这个方式来加载这个库\n",
    "import numpy as np\n",
    "import matplotlib.pyplot as plt"
   ]
  },
  {
   "cell_type": "markdown",
   "metadata": {},
   "source": [
    "## Numpy的Array"
   ]
  },
  {
   "cell_type": "code",
   "execution_count": 86,
   "metadata": {},
   "outputs": [
    {
     "name": "stdout",
     "output_type": "stream",
     "text": [
      "[0, 1, 4, 9]\n",
      "[0, 1, 8, 27]\n",
      "[0, 2, 12, 36]\n"
     ]
    }
   ],
   "source": [
    "## 用纯List实现的矩阵加法\n",
    "## Jedi: 在Python3中range(0,n)返回不是List\n",
    "##       请使用list(range(n))或list(range(1, n))来生成列表\n",
    "def pythonnum(n):\n",
    "    a = list(range(n))\n",
    "    b = list(range(n))\n",
    "    c = []\n",
    "    for i in range(len(a)):\n",
    "        a[i] = i ** 2\n",
    "        b[i] = i ** 3\n",
    "        c.append(a[i] + b[i])\n",
    "    # 在内部分别打印a和b\n",
    "    print(a)\n",
    "    print(b)\n",
    "    return c\n",
    "print(pythonnum(4))"
   ]
  },
  {
   "cell_type": "code",
   "execution_count": 90,
   "metadata": {},
   "outputs": [
    {
     "name": "stdout",
     "output_type": "stream",
     "text": [
      "[0 1 4 9]\n",
      "[ 0  1  8 27]\n",
      "[ 0  2 12 36]\n"
     ]
    }
   ],
   "source": [
    "## 用numpy来实现向量的加法\n",
    "import numpy as np\n",
    "def numpysum(n):\n",
    "    a = np.arange(n) ** 2\n",
    "    b = np.arange(n) ** 3\n",
    "    \n",
    "    # 在内部分别打印a和b\n",
    "    print(a)\n",
    "    print(b)\n",
    "    \n",
    "    c = a + b\n",
    "    return c\n",
    "print(numpysum(4))"
   ]
  },
  {
   "cell_type": "markdown",
   "metadata": {},
   "source": [
    "## 其他内容\n",
    "* IPython的使用\n",
    "* 在线资源以及帮助\n",
    "```python\n",
    "help(arange)\n",
    "arange?\n",
    "```"
   ]
  }
 ],
 "metadata": {
  "kernelspec": {
   "display_name": "Python 3",
   "language": "python",
   "name": "python3"
  },
  "language_info": {
   "codemirror_mode": {
    "name": "ipython",
    "version": 3
   },
   "file_extension": ".py",
   "mimetype": "text/x-python",
   "name": "python",
   "nbconvert_exporter": "python",
   "pygments_lexer": "ipython3",
   "version": "3.6.4"
  }
 },
 "nbformat": 4,
 "nbformat_minor": 2
}
