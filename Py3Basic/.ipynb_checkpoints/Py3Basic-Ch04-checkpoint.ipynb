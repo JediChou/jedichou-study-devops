{
 "cells": [
  {
   "cell_type": "markdown",
   "metadata": {},
   "source": [
    "# 第4章 字典\n",
    "\n",
    "## 4.1 字典的使用\n",
    "\n",
    "* 以下这样做是非常麻烦，而且也很讨厌的事！\n",
    "* 这玩意用字典处理起来就非常顺溜了。"
   ]
  },
  {
   "cell_type": "code",
   "execution_count": 2,
   "metadata": {},
   "outputs": [
    {
     "name": "stdout",
     "output_type": "stream",
     "text": [
      "Becky work at 56789, and number is RD2\n"
     ]
    }
   ],
   "source": [
    "names = [\"Jedi\", \"Becky\", \"LinHaiHong\", \"LinXiong\"]\n",
    "phone = [\"1234\", \"56789\", \"7788414-22\", \"null\"]\n",
    "Locat = [\"D13\", \"RD2\", \"D13\", \"D13\"]\n",
    "target = \"Becky\"\n",
    "print(\"%s work at %s, and number is %s\" % (target, phone[names.index(target)], Locat[names.index(target)]))"
   ]
  },
  {
   "cell_type": "markdown",
   "metadata": {},
   "source": [
    "## 4.2 创建和使用字典"
   ]
  },
  {
   "cell_type": "code",
   "execution_count": 7,
   "metadata": {},
   "outputs": [
    {
     "name": "stdout",
     "output_type": "stream",
     "text": [
      "{'大牛': 2000, '小牛': 1500, '一点都不牛': 500}\n",
      "<class 'dict'>\n"
     ]
    }
   ],
   "source": [
    "d = {\"大牛\":2000, \"小牛\": 1500, \"一点都不牛\":500}\n",
    "print(d)\n",
    "print(type(d))"
   ]
  },
  {
   "cell_type": "markdown",
   "metadata": {},
   "source": [
    "### 4.2.1 dict函数"
   ]
  },
  {
   "cell_type": "code",
   "execution_count": 12,
   "metadata": {},
   "outputs": [
    {
     "data": {
      "text/plain": [
       "{'这是大牛': 2000, '这是小牛': 1500}"
      ]
     },
     "execution_count": 12,
     "metadata": {},
     "output_type": "execute_result"
    }
   ],
   "source": [
    "# 通过映射创建字典\n",
    "dict([(\"这是大牛\", 2000), (\"这是小牛\", 1500)])"
   ]
  },
  {
   "cell_type": "code",
   "execution_count": 25,
   "metadata": {},
   "outputs": [
    {
     "data": {
      "text/plain": [
       "{'大牛': 2000, '小牛': 1500}"
      ]
     },
     "execution_count": 25,
     "metadata": {},
     "output_type": "execute_result"
    }
   ],
   "source": [
    "# 通过关键字创建字典\n",
    "# 不用带\"\"\n",
    "dict(大牛=2000, 小牛=1500)"
   ]
  },
  {
   "cell_type": "code",
   "execution_count": 29,
   "metadata": {},
   "outputs": [
    {
     "name": "stdout",
     "output_type": "stream",
     "text": [
      "{0: 'Jedi', 1: 'LinHai hong', 2: 'ZhangTao', 3: 'LinXiong'}\n"
     ]
    }
   ],
   "source": [
    "# 显然可以创建一个index和value对应的字典\n",
    "a = [\"Jedi\", \"LinHai hong\", \"ZhangTao\", \"LinXiong\"]\n",
    "b = dict([(x,y) for x,y in enumerate(a)])\n",
    "print(b)"
   ]
  },
  {
   "cell_type": "markdown",
   "metadata": {},
   "source": [
    "### 4.2.2 字典的基本操作"
   ]
  },
  {
   "cell_type": "code",
   "execution_count": 30,
   "metadata": {},
   "outputs": [
    {
     "data": {
      "text/plain": [
       "2"
      ]
     },
     "execution_count": 30,
     "metadata": {},
     "output_type": "execute_result"
    }
   ],
   "source": [
    "# 获取键值对（key-pair）的数量\n",
    "a = dict([(\"这是大牛\", 2000), (\"这是小牛\", 1500)])\n",
    "len(a)"
   ]
  },
  {
   "cell_type": "code",
   "execution_count": 31,
   "metadata": {},
   "outputs": [
    {
     "data": {
      "text/plain": [
       "2000"
      ]
     },
     "execution_count": 31,
     "metadata": {},
     "output_type": "execute_result"
    }
   ],
   "source": [
    "# 通过key获得value\n",
    "a = dict([(\"这是大牛\", 2000), (\"这是小牛\", 1500)])\n",
    "a[\"这是大牛\"]"
   ]
  },
  {
   "cell_type": "code",
   "execution_count": 32,
   "metadata": {},
   "outputs": [
    {
     "name": "stdout",
     "output_type": "stream",
     "text": [
      "3000\n"
     ]
    }
   ],
   "source": [
    "# value的赋值\n",
    "a = dict([(\"这是大牛\", 2000), (\"这是小牛\", 1500)])\n",
    "a[\"这是大牛\"] = 3000\n",
    "print(a[\"这是大牛\"])"
   ]
  },
  {
   "cell_type": "code",
   "execution_count": 1,
   "metadata": {},
   "outputs": [
    {
     "name": "stdout",
     "output_type": "stream",
     "text": [
      "{'name': 'Jedi', 'age': 40, 'location': 'D13'}\n",
      "{'name': 'Jedi', 'location': 'D13'}\n"
     ]
    }
   ],
   "source": [
    "# 删除指定的键值对\n",
    "a = dict(name=\"Jedi\", age=40, location=\"D13\")\n",
    "print(a)\n",
    "del a[\"age\"]\n",
    "print(a)"
   ]
  },
  {
   "cell_type": "code",
   "execution_count": 2,
   "metadata": {},
   "outputs": [
    {
     "name": "stdout",
     "output_type": "stream",
     "text": [
      "True\n",
      "False\n"
     ]
    }
   ],
   "source": [
    "# IN操作（检查主键是否存在）\n",
    "a = dict(name=\"Jedi\", age=40, location=\"D13\")\n",
    "print(\"name\" in a)\n",
    "print(\"title\" in a)"
   ]
  },
  {
   "cell_type": "code",
   "execution_count": 3,
   "metadata": {},
   "outputs": [
    {
     "ename": "IndexError",
     "evalue": "list assignment index out of range",
     "output_type": "error",
     "traceback": [
      "\u001b[1;31m---------------------------------------------------------------------------\u001b[0m",
      "\u001b[1;31mIndexError\u001b[0m                                Traceback (most recent call last)",
      "\u001b[1;32m<ipython-input-3-642e9e0a8efd>\u001b[0m in \u001b[0;36m<module>\u001b[1;34m()\u001b[0m\n\u001b[0;32m      1\u001b[0m \u001b[1;31m# 这样是不行的\u001b[0m\u001b[1;33m\u001b[0m\u001b[1;33m\u001b[0m\u001b[0m\n\u001b[0;32m      2\u001b[0m \u001b[0mx\u001b[0m\u001b[1;33m=\u001b[0m\u001b[1;33m[\u001b[0m\u001b[1;33m]\u001b[0m\u001b[1;33m\u001b[0m\u001b[0m\n\u001b[1;32m----> 3\u001b[1;33m \u001b[0mx\u001b[0m\u001b[1;33m[\u001b[0m\u001b[1;36m42\u001b[0m\u001b[1;33m]\u001b[0m\u001b[1;33m=\u001b[0m\u001b[1;34m\"something\"\u001b[0m\u001b[1;33m\u001b[0m\u001b[0m\n\u001b[0m",
      "\u001b[1;31mIndexError\u001b[0m: list assignment index out of range"
     ]
    }
   ],
   "source": [
    "# 这样是不行的\n",
    "x=[]\n",
    "x[42]=\"something\""
   ]
  },
  {
   "cell_type": "code",
   "execution_count": 4,
   "metadata": {},
   "outputs": [],
   "source": [
    "# 这样是可以的\n",
    "x={}\n",
    "x[42]=\"again\""
   ]
  },
  {
   "cell_type": "markdown",
   "metadata": {},
   "source": [
    "### 4.2.3 字符串的格式化\n",
    "\n",
    "Jedi：这个很重要！"
   ]
  },
  {
   "cell_type": "code",
   "execution_count": 27,
   "metadata": {},
   "outputs": [
    {
     "name": "stdout",
     "output_type": "stream",
     "text": [
      "hello %(name)\n"
     ]
    }
   ],
   "source": [
    "# 这个在Py3里好像有点问题\n",
    "template = \"hello %(name)\"\n",
    "data = {\"name\":\"Jedi\"}\n",
    "print(template)"
   ]
  },
  {
   "cell_type": "markdown",
   "metadata": {},
   "source": [
    "### 4.2.4 字典方法"
   ]
  },
  {
   "cell_type": "code",
   "execution_count": 29,
   "metadata": {},
   "outputs": [
    {
     "name": "stdout",
     "output_type": "stream",
     "text": [
      "{}\n",
      "None\n"
     ]
    }
   ],
   "source": [
    "# clear方法\n",
    "# 注意：这个方法没有返回值\n",
    "a = {1:\"a\", 2:\"b\"}\n",
    "b = a.clear()\n",
    "print(a)\n",
    "print(b)"
   ]
  },
  {
   "cell_type": "code",
   "execution_count": 31,
   "metadata": {},
   "outputs": [
    {
     "name": "stdout",
     "output_type": "stream",
     "text": [
      "{1: 'a', 2: 'b'}\n",
      "{1: 'a', 2: 'b', 3: 'c'}\n",
      "False\n"
     ]
    }
   ],
   "source": [
    "# copy方法 - 实现是浅拷贝，但用起来是深拷贝的效果\n",
    "# 这一点在Py3和Py2上面应该有所不同\n",
    "a = {1:\"a\", 2:\"b\"}\n",
    "b = a.copy()\n",
    "b[3]=\"c\"\n",
    "print(a)\n",
    "print(b)\n",
    "print(a == b)"
   ]
  },
  {
   "cell_type": "code",
   "execution_count": 35,
   "metadata": {},
   "outputs": [
    {
     "name": "stdout",
     "output_type": "stream",
     "text": [
      "{1: 'a', 2: 'b'}\n",
      "{1: 'a', 2: 'b', 3: 'c'}\n",
      "False\n"
     ]
    }
   ],
   "source": [
    "# 在Py3中有深拷贝的方法吗？答案是有的！\n",
    "from copy import deepcopy\n",
    "a = {1:\"a\", 2:\"b\"}\n",
    "b = deepcopy(a)\n",
    "b[3]=\"c\"\n",
    "print(a)\n",
    "print(b)\n",
    "print(a==b)"
   ]
  },
  {
   "cell_type": "code",
   "execution_count": 2,
   "metadata": {},
   "outputs": [
    {
     "data": {
      "text/plain": [
       "{'Bin': None, 'Jedi': None, 'Ray': None}"
      ]
     },
     "execution_count": 2,
     "metadata": {},
     "output_type": "execute_result"
    }
   ],
   "source": [
    "# fromkeys - 创建基于list元素为主键的字典\n",
    "{}.fromkeys([\"Jedi\", \"Ray\", \"Bin\"])"
   ]
  },
  {
   "cell_type": "code",
   "execution_count": 3,
   "metadata": {},
   "outputs": [
    {
     "data": {
      "text/plain": [
       "{'Bin': 'D13', 'Jedi': 'D13', 'Ray': 'D13'}"
      ]
     },
     "execution_count": 3,
     "metadata": {},
     "output_type": "execute_result"
    }
   ],
   "source": [
    "# fromkeys - key也可以指定一个值\n",
    "{}.fromkeys([\"Jedi\", \"Ray\", \"Bin\"], \"D13\")"
   ]
  },
  {
   "cell_type": "code",
   "execution_count": 4,
   "metadata": {},
   "outputs": [
    {
     "ename": "KeyError",
     "evalue": "'name'",
     "output_type": "error",
     "traceback": [
      "\u001b[1;31m---------------------------------------------------------------------------\u001b[0m",
      "\u001b[1;31mKeyError\u001b[0m                                  Traceback (most recent call last)",
      "\u001b[1;32m<ipython-input-4-0f2805d41ddc>\u001b[0m in \u001b[0;36m<module>\u001b[1;34m()\u001b[0m\n\u001b[0;32m      2\u001b[0m \u001b[1;31m# 直接这样做会碰到异常\u001b[0m\u001b[1;33m\u001b[0m\u001b[1;33m\u001b[0m\u001b[0m\n\u001b[0;32m      3\u001b[0m \u001b[0md\u001b[0m \u001b[1;33m=\u001b[0m \u001b[1;33m{\u001b[0m\u001b[1;33m}\u001b[0m\u001b[1;33m\u001b[0m\u001b[0m\n\u001b[1;32m----> 4\u001b[1;33m \u001b[0md\u001b[0m\u001b[1;33m[\u001b[0m\u001b[1;34m\"name\"\u001b[0m\u001b[1;33m]\u001b[0m\u001b[1;33m\u001b[0m\u001b[0m\n\u001b[0m",
      "\u001b[1;31mKeyError\u001b[0m: 'name'"
     ]
    }
   ],
   "source": [
    "# get方法避免了直接取key时碰到的异常\n",
    "# 直接这样做会碰到异常\n",
    "d = {}\n",
    "d[\"name\"]"
   ]
  },
  {
   "cell_type": "code",
   "execution_count": 6,
   "metadata": {},
   "outputs": [
    {
     "name": "stdout",
     "output_type": "stream",
     "text": [
      "None\n"
     ]
    }
   ],
   "source": [
    "# 但用get会给你一个返回值\n",
    "d = {}\n",
    "print(d.get(\"name\"))"
   ]
  },
  {
   "cell_type": "code",
   "execution_count": 12,
   "metadata": {},
   "outputs": [
    {
     "ename": "AttributeError",
     "evalue": "'dict' object has no attribute 'has_key'",
     "output_type": "error",
     "traceback": [
      "\u001b[1;31m---------------------------------------------------------------------------\u001b[0m",
      "\u001b[1;31mAttributeError\u001b[0m                            Traceback (most recent call last)",
      "\u001b[1;32m<ipython-input-12-5693a5294b1e>\u001b[0m in \u001b[0;36m<module>\u001b[1;34m()\u001b[0m\n\u001b[0;32m      1\u001b[0m \u001b[1;31m# hasKey, 不过在py3\u001b[0m\u001b[1;33m\u001b[0m\u001b[1;33m\u001b[0m\u001b[0m\n\u001b[0;32m      2\u001b[0m \u001b[0md\u001b[0m \u001b[1;33m=\u001b[0m \u001b[1;33m{\u001b[0m\u001b[1;34m\"name\"\u001b[0m\u001b[1;33m:\u001b[0m\u001b[1;34m\"Jedi\"\u001b[0m\u001b[1;33m}\u001b[0m\u001b[1;33m\u001b[0m\u001b[0m\n\u001b[1;32m----> 3\u001b[1;33m \u001b[0md\u001b[0m\u001b[1;33m.\u001b[0m\u001b[0mhas_key\u001b[0m\u001b[1;33m(\u001b[0m\u001b[1;34m\"name\"\u001b[0m\u001b[1;33m)\u001b[0m\u001b[1;33m\u001b[0m\u001b[0m\n\u001b[0m",
      "\u001b[1;31mAttributeError\u001b[0m: 'dict' object has no attribute 'has_key'"
     ]
    }
   ],
   "source": [
    "# hasKey, 不过在py3中并没有这个函数\n",
    "d = {\"name\":\"Jedi\"}\n",
    "d.has_key(\"name\")"
   ]
  },
  {
   "cell_type": "code",
   "execution_count": 17,
   "metadata": {},
   "outputs": [
    {
     "name": "stdout",
     "output_type": "stream",
     "text": [
      "dict_items([('jedi', 'chf'), ('ray', 'emp'), ('bin', 'emf')])\n",
      "<class 'dict_items'>\n"
     ]
    }
   ],
   "source": [
    "# item和iteritems\n",
    "# item -> 获得一个key-val的dict_items对象\n",
    "d = {\"jedi\":\"chf\", \"ray\":\"emp\", \"bin\":\"emf\"}\n",
    "print(d.items())\n",
    "print(type(d.items()))"
   ]
  },
  {
   "cell_type": "code",
   "execution_count": 19,
   "metadata": {},
   "outputs": [
    {
     "name": "stdout",
     "output_type": "stream",
     "text": [
      "jedi => chf\n",
      "ray => emp\n",
      "bin => emf\n"
     ]
    }
   ],
   "source": [
    "# item和iteritems(迭代一下)\n",
    "d = {\"jedi\":\"chf\", \"ray\":\"emp\", \"bin\":\"emf\"}\n",
    "keypairs = d.items()\n",
    "for key, val in keypairs:\n",
    "    print(key, \"=>\", val)"
   ]
  },
  {
   "cell_type": "code",
   "execution_count": 23,
   "metadata": {},
   "outputs": [
    {
     "ename": "AttributeError",
     "evalue": "'dict' object has no attribute 'iteritems'",
     "output_type": "error",
     "traceback": [
      "\u001b[1;31m---------------------------------------------------------------------------\u001b[0m",
      "\u001b[1;31mAttributeError\u001b[0m                            Traceback (most recent call last)",
      "\u001b[1;32m<ipython-input-23-2cdb3845d4d8>\u001b[0m in \u001b[0;36m<module>\u001b[1;34m()\u001b[0m\n\u001b[0;32m      2\u001b[0m \u001b[1;31m# iteritems：获得一个迭代器\u001b[0m\u001b[1;33m\u001b[0m\u001b[1;33m\u001b[0m\u001b[0m\n\u001b[0;32m      3\u001b[0m \u001b[0md\u001b[0m \u001b[1;33m=\u001b[0m \u001b[1;33m{\u001b[0m\u001b[1;34m\"jedi\"\u001b[0m\u001b[1;33m:\u001b[0m\u001b[1;34m\"chf\"\u001b[0m\u001b[1;33m,\u001b[0m \u001b[1;34m\"ray\"\u001b[0m\u001b[1;33m:\u001b[0m\u001b[1;34m\"emp\"\u001b[0m\u001b[1;33m,\u001b[0m \u001b[1;34m\"bin\"\u001b[0m\u001b[1;33m:\u001b[0m\u001b[1;34m\"emf\"\u001b[0m\u001b[1;33m}\u001b[0m\u001b[1;33m\u001b[0m\u001b[0m\n\u001b[1;32m----> 4\u001b[1;33m \u001b[0miterator\u001b[0m \u001b[1;33m=\u001b[0m \u001b[0md\u001b[0m\u001b[1;33m.\u001b[0m\u001b[0miteritems\u001b[0m\u001b[1;33m(\u001b[0m\u001b[1;33m)\u001b[0m\u001b[1;33m\u001b[0m\u001b[0m\n\u001b[0m\u001b[0;32m      5\u001b[0m \u001b[1;31m# print(type(iterator))\u001b[0m\u001b[1;33m\u001b[0m\u001b[1;33m\u001b[0m\u001b[0m\n",
      "\u001b[1;31mAttributeError\u001b[0m: 'dict' object has no attribute 'iteritems'"
     ]
    }
   ],
   "source": [
    "# item和iteritems\n",
    "# iteritems：获得一个迭代器\n",
    "d = {\"jedi\":\"chf\", \"ray\":\"emp\", \"bin\":\"emf\"}\n",
    "iterator = d.iteritems()"
   ]
  },
  {
   "cell_type": "code",
   "execution_count": 24,
   "metadata": {},
   "outputs": [
    {
     "data": {
      "text/plain": [
       "dict_keys(['jedi', 'ray', 'bin'])"
      ]
     },
     "execution_count": 24,
     "metadata": {},
     "output_type": "execute_result"
    }
   ],
   "source": [
    "# keys和iterkeys\n",
    "# 获取只包含key的dict_keys对象\n",
    "d = {\"jedi\":\"chf\", \"ray\":\"emp\", \"bin\":\"emp\"}\n",
    "d.keys()"
   ]
  },
  {
   "cell_type": "code",
   "execution_count": 29,
   "metadata": {},
   "outputs": [
    {
     "ename": "AttributeError",
     "evalue": "'dict' object has no attribute 'iterkeys'",
     "output_type": "error",
     "traceback": [
      "\u001b[1;31m---------------------------------------------------------------------------\u001b[0m",
      "\u001b[1;31mAttributeError\u001b[0m                            Traceback (most recent call last)",
      "\u001b[1;32m<ipython-input-29-4f08d734020e>\u001b[0m in \u001b[0;36m<module>\u001b[1;34m()\u001b[0m\n\u001b[0;32m      1\u001b[0m \u001b[1;31m# keys和iterkeys\u001b[0m\u001b[1;33m\u001b[0m\u001b[1;33m\u001b[0m\u001b[0m\n\u001b[0;32m      2\u001b[0m \u001b[0md\u001b[0m \u001b[1;33m=\u001b[0m \u001b[1;33m{\u001b[0m\u001b[1;34m\"jedi\"\u001b[0m\u001b[1;33m:\u001b[0m\u001b[1;34m\"chf\"\u001b[0m\u001b[1;33m,\u001b[0m \u001b[1;34m\"ray\"\u001b[0m\u001b[1;33m:\u001b[0m\u001b[1;34m\"emp\"\u001b[0m\u001b[1;33m,\u001b[0m \u001b[1;34m\"bin\"\u001b[0m\u001b[1;33m:\u001b[0m\u001b[1;34m\"emp\"\u001b[0m\u001b[1;33m}\u001b[0m\u001b[1;33m\u001b[0m\u001b[0m\n\u001b[1;32m----> 3\u001b[1;33m \u001b[0md\u001b[0m\u001b[1;33m.\u001b[0m\u001b[0miterkeys\u001b[0m\u001b[1;33m(\u001b[0m\u001b[1;33m)\u001b[0m\u001b[1;33m\u001b[0m\u001b[0m\n\u001b[0m",
      "\u001b[1;31mAttributeError\u001b[0m: 'dict' object has no attribute 'iterkeys'"
     ]
    }
   ],
   "source": [
    "# keys和iterkeys\n",
    "d = {\"jedi\":\"chf\", \"ray\":\"emp\", \"bin\":\"emp\"}\n",
    "d.iterkeys()"
   ]
  },
  {
   "cell_type": "code",
   "execution_count": 31,
   "metadata": {},
   "outputs": [
    {
     "name": "stdout",
     "output_type": "stream",
     "text": [
      "{'ray': 'emp', 'bin': 'emp'}\n"
     ]
    }
   ],
   "source": [
    "# pop方法\n",
    "d = {\"jedi\":\"chf\", \"ray\":\"emp\", \"bin\":\"emp\"}\n",
    "d.pop(\"jedi\")\n",
    "print(d)"
   ]
  },
  {
   "cell_type": "code",
   "execution_count": 33,
   "metadata": {},
   "outputs": [
    {
     "name": "stdout",
     "output_type": "stream",
     "text": [
      "{'jedi': 'chf', 'ray': 'emp'}\n"
     ]
    }
   ],
   "source": [
    "# popitem方法\n",
    "d = {\"jedi\":\"chf\", \"ray\":\"emp\", \"bin\":\"emp\"}\n",
    "d.popitem()\n",
    "print(d)"
   ]
  },
  {
   "cell_type": "code",
   "execution_count": 36,
   "metadata": {},
   "outputs": [
    {
     "name": "stdout",
     "output_type": "stream",
     "text": [
      "{'name': 'jedi'}\n"
     ]
    }
   ],
   "source": [
    "# setdefualt方法\n",
    "d = {}\n",
    "d.setdefault(\"name\", \"空\")\n",
    "d[\"name\"]=\"jedi\"\n",
    "print(d)"
   ]
  },
  {
   "cell_type": "code",
   "execution_count": 39,
   "metadata": {},
   "outputs": [
    {
     "name": "stdout",
     "output_type": "stream",
     "text": [
      "{'name': 'Jedi', 'age': 40}\n"
     ]
    }
   ],
   "source": [
    "# update方法\n",
    "# Jedi: 真是有意思的东东！\n",
    "d = {\"name\":\"Jedi\", \"age\":19}\n",
    "modify = {\"age\":40}\n",
    "d.update(modify)\n",
    "print(d)"
   ]
  },
  {
   "cell_type": "code",
   "execution_count": 42,
   "metadata": {},
   "outputs": [
    {
     "name": "stdout",
     "output_type": "stream",
     "text": [
      "['chf', 'emp', 'emp']\n",
      "<class 'dict_values'>\n"
     ]
    }
   ],
   "source": [
    "# values\n",
    "# 按输入次序返回dict的value，注意在py3中返回的可不是list\n",
    "d = {\"jedi\":\"chf\", \"ray\":\"emp\", \"bin\":\"emp\"}\n",
    "d.values()\n",
    "print(list(d.values()))\n",
    "print(type(d.values()))"
   ]
  }
 ],
 "metadata": {
  "kernelspec": {
   "display_name": "Python 3",
   "language": "python",
   "name": "python3"
  },
  "language_info": {
   "codemirror_mode": {
    "name": "ipython",
    "version": 3
   },
   "file_extension": ".py",
   "mimetype": "text/x-python",
   "name": "python",
   "nbconvert_exporter": "python",
   "pygments_lexer": "ipython3",
   "version": "3.6.4"
  }
 },
 "nbformat": 4,
 "nbformat_minor": 2
}
