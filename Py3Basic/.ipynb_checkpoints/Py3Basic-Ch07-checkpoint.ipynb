{
 "cells": [
  {
   "cell_type": "markdown",
   "metadata": {},
   "source": [
    "# 第7章 更加抽象\n",
    "\n",
    "* 关键词：封装、继承、多态\n",
    "\n",
    "## 7.1 对象的魔力\n",
    "\n",
    "### 7.1.1 多态\n",
    "\n",
    "1. 多态和方法\n",
    "2. 多态的多种形式\n",
    "\n",
    "### 7.1.2 封装\n",
    "\n",
    "### 7.1.3 继承\n",
    "\n",
    "Jedi：Python的多态似乎没有C#和Java的好像（似乎很不明确）\n",
    "\n",
    "## 7.2 类和类型\n",
    "\n",
    "### 7.2.1 类到底是什么\n",
    "\n",
    "* class -> instance\n",
    "* superclass -> class -> instance\n",
    "\n",
    "### 7.2.2 创建自己的类\n"
   ]
  },
  {
   "cell_type": "code",
   "execution_count": 3,
   "metadata": {},
   "outputs": [
    {
     "name": "stdout",
     "output_type": "stream",
     "text": [
      "Hello, world! I'm Jedi\n"
     ]
    }
   ],
   "source": [
    "__metaclass__ = type\n",
    "\n",
    "class Person:\n",
    "    def setName(self, name):\n",
    "        self.name = name\n",
    "    def getName(self):\n",
    "        return self.name\n",
    "    def greet(self):\n",
    "        print(\"Hello, world! I'm %s\" % self.name)\n",
    "        \n",
    "p = Person()\n",
    "p.setName(\"Jedi\")\n",
    "p.greet()\n"
   ]
  },
  {
   "cell_type": "code",
   "execution_count": null,
   "metadata": {},
   "outputs": [],
   "source": []
  }
 ],
 "metadata": {
  "kernelspec": {
   "display_name": "Python 3",
   "language": "python",
   "name": "python3"
  },
  "language_info": {
   "codemirror_mode": {
    "name": "ipython",
    "version": 3
   },
   "file_extension": ".py",
   "mimetype": "text/x-python",
   "name": "python",
   "nbconvert_exporter": "python",
   "pygments_lexer": "ipython3",
   "version": "3.6.4"
  }
 },
 "nbformat": 4,
 "nbformat_minor": 2
}
